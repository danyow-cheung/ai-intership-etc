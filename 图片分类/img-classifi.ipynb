{
 "cells": [
  {
   "cell_type": "markdown",
   "metadata": {},
   "source": [
    "# 图片分类\n",
    "数据集：https://www.kaggle.com/datasets/gpiosenka/coffee-bean-dataset-resized-224-x-224\n",
    "basedon:https://tensorflow.google.cn/tutorials/images/classification"
   ]
  },
  {
   "cell_type": "code",
   "execution_count": 3,
   "metadata": {},
   "outputs": [],
   "source": [
    "import tensorflow as tf\n",
    "import cv2, pathlib, splitfolders, math, os\n",
    "from keras.preprocessing.image import ImageDataGenerator\n",
    "from keras.layers import *\n",
    "import matplotlib.pyplot as plt\n",
    "from PIL import Image\n",
    "import matplotlib.pyplot as plt \n",
    "import numpy as np\n",
    "import PIL \n",
    "import tensorflow as tf \n",
    "from tensorflow import keras\n",
    "from tensorflow.keras import layers\n",
    "from tensorflow.keras.models import Sequential"
   ]
  },
  {
   "cell_type": "code",
   "execution_count": 110,
   "metadata": {},
   "outputs": [],
   "source": [
    "# from pathlib import Path\n",
    "# import imghdr\n",
    "# # 检查数据集中是否存在图片，是不被tf支持的格式\n",
    "\n",
    "# # 数据集所在的路径\n",
    "# data_dir = \"Reptiles-Insects\"\n",
    "# # 图片拓展\n",
    "# image_extensions = [\".png\", \".jpg\"]  # add there all your images file extensions\n",
    "\n",
    "# img_type_accepted_by_tf = [\"bmp\", \"gif\", \"jpeg\", \"png\"]\n",
    "\n",
    "# for filepath in Path(data_dir).rglob(\"*\"):\n",
    "#     if filepath.suffix.lower() in image_extensions:\n",
    "#         img_type = imghdr.what(filepath)\n",
    "#         if img_type is None:\n",
    "#             print(f\"{filepath} is not an image\")\n",
    "           \n",
    "#         elif img_type not in img_type_accepted_by_tf:\n",
    "#             print(f\"{filepath} is a {img_type}, not accepted by TensorFlow\")\n",
    "           "
   ]
  },
  {
   "cell_type": "code",
   "execution_count": 111,
   "metadata": {},
   "outputs": [],
   "source": [
    "# epochs = 30\n",
    "# batch_size = 32\n",
    "# img_height, img_width = 300, 300\n",
    "# input_shape = (img_height, img_width, 3)\n",
    "\n",
    "# # 拷贝图片，去除掉不合格的格式，存储于imgs文件夹下\n",
    "# def create_data_sparse(data_bs):\n",
    "#     data_bs = pathlib.Path(data_bs)\n",
    "#     splitfolders.ratio(data_bs, output='Imgs-/', seed=1234, ratio=(0.7, 0.15, 0.15), group_prefix=None)\n",
    "#     data_gen = ImageDataGenerator(rescale=1.0 / 255)\n",
    "#     train_ds = data_gen.flow_from_directory('Imgs-/train/', target_size=(img_height, img_width),\n",
    "#                                             class_mode='binary', batch_size=batch_size, subset='training')\n",
    "\n",
    "#     test_ds = data_gen.flow_from_directory('Imgs-/test/', target_size=(img_height, img_width),\n",
    "#                                           class_mode='binary', batch_size=batch_size, shuffle=False)\n",
    "\n",
    "#     return train_ds, test_ds\n",
    "\n",
    "# train_ds, test_ds= create_data_sparse('Reptiles-Insects')"
   ]
  },
  {
   "cell_type": "code",
   "execution_count": 112,
   "metadata": {},
   "outputs": [],
   "source": [
    "# from PIL import Image\n",
    "# import os\n",
    "# 修改jpg去到png\n",
    "# directory = r'Imgs-'\n",
    "# c=1\n",
    "# for filename in os.listdir(directory):\n",
    "#     if filename.endswith(\".jpg\"):\n",
    "#         im = Image.open(filename)\n",
    "#         name='img'+str(c)+'.png'\n",
    "#         rgb_im = im.convert('RGB')\n",
    "#         rgb_im.save(name)\n",
    "#         c+=1\n",
    "#         print(os.path.join(directory, filename))\n",
    "#         continue\n",
    "#     else:\n",
    "#         continue"
   ]
  },
  {
   "cell_type": "code",
   "execution_count": 4,
   "metadata": {},
   "outputs": [],
   "source": [
    "import pathlib\n",
    "data_dir= pathlib.Path(\"coffee-bean\")"
   ]
  },
  {
   "cell_type": "code",
   "execution_count": 114,
   "metadata": {},
   "outputs": [
    {
     "data": {
      "text/plain": [
       "PosixPath('coffee-bean')"
      ]
     },
     "execution_count": 114,
     "metadata": {},
     "output_type": "execute_result"
    }
   ],
   "source": [
    "data_dir"
   ]
  },
  {
   "cell_type": "code",
   "execution_count": 116,
   "metadata": {},
   "outputs": [],
   "source": [
    "# Ant =  list(data_dir.glob(\"train/Ant/*\"))\n",
    "# PIL.Image.open(str(Ant[0]))\n",
    "# Spider = list(data_dir.glob(\"train/Spider/*\"))\n",
    "# PIL.Image.open(str(Spider[0]))"
   ]
  },
  {
   "cell_type": "code",
   "execution_count": 117,
   "metadata": {},
   "outputs": [],
   "source": [
    "batch_size =32\n",
    "img_width = 180\n",
    "img_height =180"
   ]
  },
  {
   "cell_type": "code",
   "execution_count": 118,
   "metadata": {},
   "outputs": [],
   "source": [
    "train_data_dir = pathlib.Path(\"coffee-bean/train\")\n",
    "val_data_dir = pathlib.Path(\"coffee-bean/test\")"
   ]
  },
  {
   "cell_type": "code",
   "execution_count": 119,
   "metadata": {},
   "outputs": [
    {
     "name": "stdout",
     "output_type": "stream",
     "text": [
      "Found 1200 files belonging to 4 classes.\n"
     ]
    }
   ],
   "source": [
    "train_data = tf.keras.utils.image_dataset_from_directory(\n",
    "    train_data_dir,\n",
    "    seed=123,\n",
    "    image_size=(img_height,img_width),\n",
    "    batch_size=batch_size\n",
    "\n",
    ")"
   ]
  },
  {
   "cell_type": "code",
   "execution_count": 120,
   "metadata": {},
   "outputs": [
    {
     "name": "stdout",
     "output_type": "stream",
     "text": [
      "Found 400 files belonging to 4 classes.\n"
     ]
    }
   ],
   "source": [
    "val_data = tf.keras.utils.image_dataset_from_directory(\n",
    "    val_data_dir,\n",
    "    seed=123,\n",
    "    image_size=(img_height,img_width),\n",
    "    batch_size=batch_size\n",
    ")"
   ]
  },
  {
   "cell_type": "code",
   "execution_count": 121,
   "metadata": {},
   "outputs": [
    {
     "data": {
      "text/plain": [
       "['Dark', 'Green', 'Light', 'Medium']"
      ]
     },
     "execution_count": 121,
     "metadata": {},
     "output_type": "execute_result"
    }
   ],
   "source": [
    "class_names = train_data.class_names\n",
    "class_names"
   ]
  },
  {
   "cell_type": "code",
   "execution_count": 122,
   "metadata": {},
   "outputs": [],
   "source": [
    "# 标准化数据\n",
    "normalization_layer = layers.Rescaling(1./255)"
   ]
  },
  {
   "cell_type": "code",
   "execution_count": 123,
   "metadata": {},
   "outputs": [
    {
     "name": "stdout",
     "output_type": "stream",
     "text": [
      "Model: \"sequential_5\"\n",
      "_________________________________________________________________\n",
      " Layer (type)                Output Shape              Param #   \n",
      "=================================================================\n",
      " rescaling_11 (Rescaling)    (None, 180, 180, 3)       0         \n",
      "                                                                 \n",
      " conv2d_15 (Conv2D)          (None, 180, 180, 16)      448       \n",
      "                                                                 \n",
      " max_pooling2d_15 (MaxPoolin  (None, 90, 90, 16)       0         \n",
      " g2D)                                                            \n",
      "                                                                 \n",
      " conv2d_16 (Conv2D)          (None, 90, 90, 32)        4640      \n",
      "                                                                 \n",
      " max_pooling2d_16 (MaxPoolin  (None, 45, 45, 32)       0         \n",
      " g2D)                                                            \n",
      "                                                                 \n",
      " conv2d_17 (Conv2D)          (None, 45, 45, 64)        18496     \n",
      "                                                                 \n",
      " max_pooling2d_17 (MaxPoolin  (None, 22, 22, 64)       0         \n",
      " g2D)                                                            \n",
      "                                                                 \n",
      " flatten_5 (Flatten)         (None, 30976)             0         \n",
      "                                                                 \n",
      " dense_10 (Dense)            (None, 128)               3965056   \n",
      "                                                                 \n",
      " dense_11 (Dense)            (None, 4)                 516       \n",
      "                                                                 \n",
      "=================================================================\n",
      "Total params: 3,989,156\n",
      "Trainable params: 3,989,156\n",
      "Non-trainable params: 0\n",
      "_________________________________________________________________\n"
     ]
    }
   ],
   "source": [
    "num_classess = len(class_names)\n",
    "model = Sequential([\n",
    "    layers.Rescaling(1./255,input_shape=(img_height,img_width,3)),\n",
    "    layers.Conv2D(16,3,padding=\"same\",activation='relu'),\n",
    "    layers.MaxPooling2D(),\n",
    "    layers.Conv2D(32,3,padding=\"same\",activation='relu'),\n",
    "    layers.MaxPooling2D(),\n",
    "    layers.Conv2D(64,3,padding=\"same\",activation='relu'),\n",
    "    layers.MaxPooling2D(),\n",
    "    layers.Flatten(),\n",
    "    layers.Dense(128,activation='relu'),\n",
    "    layers.Dense(num_classess)\n",
    "    \n",
    "])\n",
    "model.summary()"
   ]
  },
  {
   "cell_type": "code",
   "execution_count": 124,
   "metadata": {},
   "outputs": [],
   "source": [
    "# 编译模型\n",
    "model.compile(optimizer='adam', \n",
    "              loss=tf.keras.losses.SparseCategoricalCrossentropy(from_logits=True),\n",
    "              metrics=['accuracy'])"
   ]
  },
  {
   "cell_type": "code",
   "execution_count": 126,
   "metadata": {},
   "outputs": [
    {
     "name": "stdout",
     "output_type": "stream",
     "text": [
      "Epoch 1/5\n",
      "38/38 [==============================] - 14s 372ms/step - loss: 0.1897 - accuracy: 0.9342 - val_loss: 0.1207 - val_accuracy: 0.9550\n",
      "Epoch 2/5\n",
      "38/38 [==============================] - 15s 403ms/step - loss: 0.0703 - accuracy: 0.9775 - val_loss: 0.0743 - val_accuracy: 0.9725\n",
      "Epoch 3/5\n",
      "38/38 [==============================] - 14s 372ms/step - loss: 0.0971 - accuracy: 0.9667 - val_loss: 0.0550 - val_accuracy: 0.9850\n",
      "Epoch 4/5\n",
      "38/38 [==============================] - 15s 387ms/step - loss: 0.0640 - accuracy: 0.9817 - val_loss: 0.0772 - val_accuracy: 0.9650\n",
      "Epoch 5/5\n",
      "38/38 [==============================] - 15s 387ms/step - loss: 0.0513 - accuracy: 0.9833 - val_loss: 0.0432 - val_accuracy: 0.9875\n"
     ]
    }
   ],
   "source": [
    "epochs = 5\n",
    "history = model.fit(\n",
    "    train_data,\n",
    "    validation_data=val_data,\n",
    "    epochs=epochs\n",
    ")"
   ]
  },
  {
   "cell_type": "code",
   "execution_count": 127,
   "metadata": {},
   "outputs": [
    {
     "data": {
      "image/png": "[encoded data removed]",
      "text/plain": [
       "<Figure size 576x576 with 2 Axes>"
      ]
     },
     "metadata": {
      "needs_background": "light"
     },
     "output_type": "display_data"
    }
   ],
   "source": [
    "# 可视化验证结果\n",
    "acc = history.history['accuracy']\n",
    "val_acc=history.history['val_accuracy']\n",
    "\n",
    "loss = history.history['loss']\n",
    "val_loss = history.history['val_loss']\n",
    "\n",
    "epochs_range = range(epochs)\n",
    "\n",
    "\n",
    "plt.figure(figsize=(8, 8))\n",
    "plt.subplot(1, 2, 1)\n",
    "plt.plot(epochs_range, acc, label='Training Accuracy')\n",
    "plt.plot(epochs_range, val_acc, label='Validation Accuracy')\n",
    "plt.legend(loc='lower right')\n",
    "plt.title('Training and Validation Accuracy')\n",
    "\n",
    "plt.subplot(1, 2, 2)\n",
    "plt.plot(epochs_range, loss, label='Training Loss')\n",
    "plt.plot(epochs_range, val_loss, label='Validation Loss')\n",
    "plt.legend(loc='upper right')\n",
    "plt.title('Training and Validation Loss')\n",
    "plt.show()"
   ]
  }
 ],
 "metadata": {
  "kernelspec": {
   "display_name": "Python 3.9.2 64-bit",
   "language": "python",
   "name": "python3"
  },
  "language_info": {
   "codemirror_mode": {
    "name": "ipython",
    "version": 3
   },
   "file_extension": ".py",
   "mimetype": "text/x-python",
   "name": "python",
   "nbconvert_exporter": "python",
   "pygments_lexer": "ipython3",
   "version": "3.9.2"
  },
  "orig_nbformat": 4,
  "vscode": {
   "interpreter": {
    "hash": "397704579725e15f5c7cb49fe5f0341eb7531c82d19f2c29d197e8b64ab5776b"
   }
  }
 },
 "nbformat": 4,
 "nbformat_minor": 2
}
