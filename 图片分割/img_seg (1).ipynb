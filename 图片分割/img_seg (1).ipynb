{
  "cells": [
    {
      "cell_type": "markdown",
      "metadata": {
        "id": "EGdSPw-hBcZg"
      },
      "source": [
        "# 使用UNET進行圖像分割\n",
        "\n"
      ]
    },
    {
      "cell_type": "markdown",
      "source": [
        "\n",
        "\n",
        "---\n",
        "\n",
        "\n",
        "# kaggle導入數據集的方法"
      ],
      "metadata": {
        "id": "idBiVbtzyfxw"
      }
    },
    {
      "cell_type": "code",
      "source": [
        "# mkdir ~/.kaggle"
      ],
      "metadata": {
        "id": "EkSuTKWbt43p"
      },
      "execution_count": 108,
      "outputs": []
    },
    {
      "cell_type": "code",
      "source": [
        "# cp kaggle.json ~/.kaggle/"
      ],
      "metadata": {
        "id": "a0cQ6r6YwM5a"
      },
      "execution_count": 109,
      "outputs": []
    },
    {
      "cell_type": "code",
      "source": [
        "# ! chmod 600 ~/.kaggle/kaggle.json"
      ],
      "metadata": {
        "id": "6JMx0BEStaeb"
      },
      "execution_count": 110,
      "outputs": []
    },
    {
      "cell_type": "code",
      "source": [
        "# ! kaggle competitions download -c carvana-image-masking-challenge"
      ],
      "metadata": {
        "id": "8VWJB21FwdsP"
      },
      "execution_count": 111,
      "outputs": []
    },
    {
      "cell_type": "code",
      "source": [
        "# ! unzip carvana-image-masking-challenge.zip"
      ],
      "metadata": {
        "id": "zTWaZZXNxpYD"
      },
      "execution_count": 112,
      "outputs": []
    },
    {
      "cell_type": "markdown",
      "source": [
        "\n",
        "\n",
        "---\n",
        "\n"
      ],
      "metadata": {
        "id": "ZK_exJUQylgf"
      }
    },
    {
      "cell_type": "markdown",
      "source": [
        "# import train_mask,train dataset"
      ],
      "metadata": {
        "id": "LpWIWyIFy7PD"
      }
    },
    {
      "cell_type": "code",
      "source": [
        "! chmod 600 train_masks.zip"
      ],
      "metadata": {
        "id": "hsFUjQlFzAx0"
      },
      "execution_count": 113,
      "outputs": []
    },
    {
      "cell_type": "code",
      "source": [
        "! chmod 600 train.zip"
      ],
      "metadata": {
        "id": "bGEs1HihzX6F"
      },
      "execution_count": 114,
      "outputs": []
    },
    {
      "cell_type": "code",
      "source": [
        "# !unzip trian_masks.zip"
      ],
      "metadata": {
        "id": "j_mNckyeylQR"
      },
      "execution_count": 115,
      "outputs": []
    },
    {
      "cell_type": "code",
      "source": [
        "# !unzip train.zip"
      ],
      "metadata": {
        "id": "9z0KUUPRy29C"
      },
      "execution_count": 116,
      "outputs": []
    },
    {
      "cell_type": "code",
      "source": [
        "pip install imageio"
      ],
      "metadata": {
        "colab": {
          "base_uri": "https://localhost:8080/"
        },
        "id": "5XgVNTdTfC19",
        "outputId": "12c0d616-0b67-46fc-b96f-b1712d16237e"
      },
      "execution_count": 117,
      "outputs": [
        {
          "output_type": "stream",
          "name": "stdout",
          "text": [
            "Looking in indexes: https://pypi.org/simple, https://us-python.pkg.dev/colab-wheels/public/simple/\n",
            "Requirement already satisfied: imageio in /usr/local/lib/python3.7/dist-packages (2.9.0)\n",
            "Requirement already satisfied: numpy in /usr/local/lib/python3.7/dist-packages (from imageio) (1.21.6)\n",
            "Requirement already satisfied: pillow in /usr/local/lib/python3.7/dist-packages (from imageio) (7.1.2)\n"
          ]
        }
      ]
    },
    {
      "cell_type": "code",
      "source": [
        "import cv2\n",
        "import numpy as np\n",
        "import imageio\n",
        "from scipy import ndimage\n",
        "from glob import glob\n",
        "import zipfile"
      ],
      "metadata": {
        "id": "aX2Sa1ARz5m7"
      },
      "execution_count": 118,
      "outputs": []
    },
    {
      "cell_type": "code",
      "source": [
        "path_to_zip_file = \"train.zip\"\n",
        "directory_to_extract_to = \"./output/\"\n",
        "with zipfile.ZipFile(path_to_zip_file, 'r') as zip_ref:\n",
        "    zip_ref.extractall(directory_to_extract_to)\n",
        "    \n",
        "path_to_zip_file = \"train_masks.zip\"\n",
        "directory_to_extract_to = \"./output/\"\n",
        "with zipfile.ZipFile(path_to_zip_file, 'r') as zip_ref:\n",
        "    zip_ref.extractall(directory_to_extract_to)"
      ],
      "metadata": {
        "id": "obwCHbAExFnk"
      },
      "execution_count": 119,
      "outputs": []
    },
    {
      "cell_type": "code",
      "execution_count": 120,
      "metadata": {
        "id": "ccvjtTeBBcZk",
        "colab": {
          "base_uri": "https://localhost:8080/"
        },
        "outputId": "ce82401e-15aa-4593-d11a-680b01e3721c"
      },
      "outputs": [
        {
          "output_type": "stream",
          "name": "stdout",
          "text": [
            "Looking in indexes: https://pypi.org/simple, https://us-python.pkg.dev/colab-wheels/public/simple/\n",
            "Collecting git+https://github.com/tensorflow/examples.git\n",
            "  Cloning https://github.com/tensorflow/examples.git to /tmp/pip-req-build-76iubh7j\n",
            "  Running command git clone -q https://github.com/tensorflow/examples.git /tmp/pip-req-build-76iubh7j\n",
            "Requirement already satisfied: absl-py in /usr/local/lib/python3.7/dist-packages (from tensorflow-examples===26080748173cc8236f805d2b65031b1e39fde4b1-) (1.2.0)\n",
            "Requirement already satisfied: six in /usr/local/lib/python3.7/dist-packages (from tensorflow-examples===26080748173cc8236f805d2b65031b1e39fde4b1-) (1.15.0)\n"
          ]
        }
      ],
      "source": [
        "! pip install git+https://github.com/tensorflow/examples.git"
      ]
    },
    {
      "cell_type": "code",
      "source": [
        "IMG_ROWS = 128\n",
        "IMG_COLS = 128\n",
        "SAMPLE = 1000"
      ],
      "metadata": {
        "id": "-8XdxUsNtmTF"
      },
      "execution_count": 121,
      "outputs": []
    },
    {
      "cell_type": "code",
      "source": [
        "train_mask_paths  = sorted(glob(\"./output/train_masks/*.gif\"))[:SAMPLE]\n"
      ],
      "metadata": {
        "id": "Ost_M5txkRhZ"
      },
      "execution_count": 122,
      "outputs": []
    },
    {
      "cell_type": "code",
      "execution_count": 123,
      "metadata": {
        "id": "tzTdDlHcBcZl"
      },
      "outputs": [],
      "source": [
        "train_img_paths   = sorted(glob(\"./output/train/*.jpg\"))[:SAMPLE]\n",
        "test_img_paths = sorted(glob(\"./output/train/*.jpg\"))[SAMPLE:2000]"
      ]
    },
    {
      "cell_type": "code",
      "source": [
        "train_img_paths   \n"
      ],
      "metadata": {
        "colab": {
          "base_uri": "https://localhost:8080/"
        },
        "id": "99umKq-dngHk",
        "outputId": "3de2b589-e67f-4fb6-c592-97ed358b2343"
      },
      "execution_count": 124,
      "outputs": [
        {
          "output_type": "execute_result",
          "data": {
            "text/plain": [
              "['./output/train/00087a6bd4dc_01.jpg',\n",
              " './output/train/00087a6bd4dc_02.jpg',\n",
              " './output/train/00087a6bd4dc_03.jpg',\n",
              " './output/train/00087a6bd4dc_04.jpg',\n",
              " './output/train/00087a6bd4dc_05.jpg',\n",
              " './output/train/00087a6bd4dc_06.jpg',\n",
              " './output/train/00087a6bd4dc_07.jpg',\n",
              " './output/train/00087a6bd4dc_08.jpg',\n",
              " './output/train/00087a6bd4dc_09.jpg',\n",
              " './output/train/00087a6bd4dc_10.jpg',\n",
              " './output/train/00087a6bd4dc_11.jpg',\n",
              " './output/train/00087a6bd4dc_12.jpg',\n",
              " './output/train/00087a6bd4dc_13.jpg',\n",
              " './output/train/00087a6bd4dc_14.jpg',\n",
              " './output/train/00087a6bd4dc_15.jpg',\n",
              " './output/train/00087a6bd4dc_16.jpg',\n",
              " './output/train/02159e548029_01.jpg',\n",
              " './output/train/02159e548029_02.jpg',\n",
              " './output/train/02159e548029_03.jpg',\n",
              " './output/train/02159e548029_04.jpg',\n",
              " './output/train/02159e548029_05.jpg',\n",
              " './output/train/02159e548029_06.jpg',\n",
              " './output/train/02159e548029_07.jpg',\n",
              " './output/train/02159e548029_08.jpg',\n",
              " './output/train/02159e548029_09.jpg',\n",
              " './output/train/02159e548029_10.jpg',\n",
              " './output/train/02159e548029_11.jpg',\n",
              " './output/train/02159e548029_12.jpg',\n",
              " './output/train/02159e548029_13.jpg',\n",
              " './output/train/02159e548029_14.jpg',\n",
              " './output/train/02159e548029_15.jpg',\n",
              " './output/train/02159e548029_16.jpg',\n",
              " './output/train/03a857ce842d_01.jpg',\n",
              " './output/train/03a857ce842d_02.jpg',\n",
              " './output/train/03a857ce842d_03.jpg',\n",
              " './output/train/03a857ce842d_04.jpg',\n",
              " './output/train/03a857ce842d_05.jpg',\n",
              " './output/train/03a857ce842d_06.jpg',\n",
              " './output/train/03a857ce842d_07.jpg',\n",
              " './output/train/03a857ce842d_08.jpg',\n",
              " './output/train/03a857ce842d_09.jpg',\n",
              " './output/train/03a857ce842d_10.jpg',\n",
              " './output/train/03a857ce842d_11.jpg',\n",
              " './output/train/03a857ce842d_12.jpg',\n",
              " './output/train/03a857ce842d_13.jpg',\n",
              " './output/train/03a857ce842d_14.jpg',\n",
              " './output/train/03a857ce842d_15.jpg',\n",
              " './output/train/03a857ce842d_16.jpg',\n",
              " './output/train/0495dcf27283_01.jpg',\n",
              " './output/train/0495dcf27283_02.jpg',\n",
              " './output/train/0495dcf27283_03.jpg',\n",
              " './output/train/0495dcf27283_04.jpg',\n",
              " './output/train/0495dcf27283_05.jpg',\n",
              " './output/train/0495dcf27283_06.jpg',\n",
              " './output/train/0495dcf27283_07.jpg',\n",
              " './output/train/0495dcf27283_08.jpg',\n",
              " './output/train/0495dcf27283_09.jpg',\n",
              " './output/train/0495dcf27283_10.jpg',\n",
              " './output/train/0495dcf27283_11.jpg',\n",
              " './output/train/0495dcf27283_12.jpg',\n",
              " './output/train/0495dcf27283_13.jpg',\n",
              " './output/train/0495dcf27283_14.jpg',\n",
              " './output/train/0495dcf27283_15.jpg',\n",
              " './output/train/0495dcf27283_16.jpg',\n",
              " './output/train/04bd942b463b_01.jpg',\n",
              " './output/train/04bd942b463b_02.jpg',\n",
              " './output/train/04bd942b463b_03.jpg',\n",
              " './output/train/04bd942b463b_04.jpg',\n",
              " './output/train/04bd942b463b_05.jpg',\n",
              " './output/train/04bd942b463b_06.jpg',\n",
              " './output/train/04bd942b463b_07.jpg',\n",
              " './output/train/04bd942b463b_08.jpg',\n",
              " './output/train/04bd942b463b_09.jpg',\n",
              " './output/train/04bd942b463b_10.jpg',\n",
              " './output/train/04bd942b463b_11.jpg',\n",
              " './output/train/04bd942b463b_12.jpg',\n",
              " './output/train/04bd942b463b_13.jpg',\n",
              " './output/train/04bd942b463b_14.jpg',\n",
              " './output/train/04bd942b463b_15.jpg',\n",
              " './output/train/04bd942b463b_16.jpg',\n",
              " './output/train/0789bed99cb8_01.jpg',\n",
              " './output/train/0789bed99cb8_02.jpg',\n",
              " './output/train/0789bed99cb8_03.jpg',\n",
              " './output/train/0789bed99cb8_04.jpg',\n",
              " './output/train/0789bed99cb8_05.jpg',\n",
              " './output/train/0789bed99cb8_06.jpg',\n",
              " './output/train/0789bed99cb8_07.jpg',\n",
              " './output/train/0789bed99cb8_08.jpg',\n",
              " './output/train/0789bed99cb8_09.jpg',\n",
              " './output/train/0789bed99cb8_10.jpg',\n",
              " './output/train/0789bed99cb8_11.jpg',\n",
              " './output/train/0789bed99cb8_12.jpg',\n",
              " './output/train/0789bed99cb8_13.jpg',\n",
              " './output/train/0789bed99cb8_14.jpg',\n",
              " './output/train/0789bed99cb8_15.jpg',\n",
              " './output/train/0789bed99cb8_16.jpg',\n",
              " './output/train/0795e132d090_01.jpg',\n",
              " './output/train/0795e132d090_02.jpg',\n",
              " './output/train/0795e132d090_03.jpg',\n",
              " './output/train/0795e132d090_04.jpg',\n",
              " './output/train/0795e132d090_05.jpg',\n",
              " './output/train/0795e132d090_06.jpg',\n",
              " './output/train/0795e132d090_07.jpg',\n",
              " './output/train/0795e132d090_08.jpg',\n",
              " './output/train/0795e132d090_09.jpg',\n",
              " './output/train/0795e132d090_10.jpg',\n",
              " './output/train/0795e132d090_11.jpg',\n",
              " './output/train/0795e132d090_12.jpg',\n",
              " './output/train/0795e132d090_13.jpg',\n",
              " './output/train/0795e132d090_14.jpg',\n",
              " './output/train/0795e132d090_15.jpg',\n",
              " './output/train/0795e132d090_16.jpg',\n",
              " './output/train/08a646be6b30_01.jpg',\n",
              " './output/train/08a646be6b30_02.jpg',\n",
              " './output/train/08a646be6b30_03.jpg',\n",
              " './output/train/08a646be6b30_04.jpg',\n",
              " './output/train/08a646be6b30_05.jpg',\n",
              " './output/train/08a646be6b30_06.jpg',\n",
              " './output/train/08a646be6b30_07.jpg',\n",
              " './output/train/08a646be6b30_08.jpg',\n",
              " './output/train/08a646be6b30_09.jpg',\n",
              " './output/train/08a646be6b30_10.jpg',\n",
              " './output/train/08a646be6b30_11.jpg',\n",
              " './output/train/08a646be6b30_12.jpg',\n",
              " './output/train/08a646be6b30_13.jpg',\n",
              " './output/train/08a646be6b30_14.jpg',\n",
              " './output/train/08a646be6b30_15.jpg',\n",
              " './output/train/08a646be6b30_16.jpg',\n",
              " './output/train/0cdf5b5d0ce1_01.jpg',\n",
              " './output/train/0cdf5b5d0ce1_02.jpg',\n",
              " './output/train/0cdf5b5d0ce1_03.jpg',\n",
              " './output/train/0cdf5b5d0ce1_04.jpg',\n",
              " './output/train/0cdf5b5d0ce1_05.jpg',\n",
              " './output/train/0cdf5b5d0ce1_06.jpg',\n",
              " './output/train/0cdf5b5d0ce1_07.jpg',\n",
              " './output/train/0cdf5b5d0ce1_08.jpg',\n",
              " './output/train/0cdf5b5d0ce1_09.jpg',\n",
              " './output/train/0cdf5b5d0ce1_10.jpg',\n",
              " './output/train/0cdf5b5d0ce1_11.jpg',\n",
              " './output/train/0cdf5b5d0ce1_12.jpg',\n",
              " './output/train/0cdf5b5d0ce1_13.jpg',\n",
              " './output/train/0cdf5b5d0ce1_14.jpg',\n",
              " './output/train/0cdf5b5d0ce1_15.jpg',\n",
              " './output/train/0cdf5b5d0ce1_16.jpg',\n",
              " './output/train/0ce66b539f52_01.jpg',\n",
              " './output/train/0ce66b539f52_02.jpg',\n",
              " './output/train/0ce66b539f52_03.jpg',\n",
              " './output/train/0ce66b539f52_04.jpg',\n",
              " './output/train/0ce66b539f52_05.jpg',\n",
              " './output/train/0ce66b539f52_06.jpg',\n",
              " './output/train/0ce66b539f52_07.jpg',\n",
              " './output/train/0ce66b539f52_08.jpg',\n",
              " './output/train/0ce66b539f52_09.jpg',\n",
              " './output/train/0ce66b539f52_10.jpg',\n",
              " './output/train/0ce66b539f52_11.jpg',\n",
              " './output/train/0ce66b539f52_12.jpg',\n",
              " './output/train/0ce66b539f52_13.jpg',\n",
              " './output/train/0ce66b539f52_14.jpg',\n",
              " './output/train/0ce66b539f52_15.jpg',\n",
              " './output/train/0ce66b539f52_16.jpg',\n",
              " './output/train/0d1a9caf4350_01.jpg',\n",
              " './output/train/0d1a9caf4350_02.jpg',\n",
              " './output/train/0d1a9caf4350_03.jpg',\n",
              " './output/train/0d1a9caf4350_04.jpg',\n",
              " './output/train/0d1a9caf4350_05.jpg',\n",
              " './output/train/0d1a9caf4350_06.jpg',\n",
              " './output/train/0d1a9caf4350_07.jpg',\n",
              " './output/train/0d1a9caf4350_08.jpg',\n",
              " './output/train/0d1a9caf4350_09.jpg',\n",
              " './output/train/0d1a9caf4350_10.jpg',\n",
              " './output/train/0d1a9caf4350_11.jpg',\n",
              " './output/train/0d1a9caf4350_12.jpg',\n",
              " './output/train/0d1a9caf4350_13.jpg',\n",
              " './output/train/0d1a9caf4350_14.jpg',\n",
              " './output/train/0d1a9caf4350_15.jpg',\n",
              " './output/train/0d1a9caf4350_16.jpg',\n",
              " './output/train/0d3adbbc9a8b_01.jpg',\n",
              " './output/train/0d3adbbc9a8b_02.jpg',\n",
              " './output/train/0d3adbbc9a8b_03.jpg',\n",
              " './output/train/0d3adbbc9a8b_04.jpg',\n",
              " './output/train/0d3adbbc9a8b_05.jpg',\n",
              " './output/train/0d3adbbc9a8b_06.jpg',\n",
              " './output/train/0d3adbbc9a8b_07.jpg',\n",
              " './output/train/0d3adbbc9a8b_08.jpg',\n",
              " './output/train/0d3adbbc9a8b_09.jpg',\n",
              " './output/train/0d3adbbc9a8b_10.jpg',\n",
              " './output/train/0d3adbbc9a8b_11.jpg',\n",
              " './output/train/0d3adbbc9a8b_12.jpg',\n",
              " './output/train/0d3adbbc9a8b_13.jpg',\n",
              " './output/train/0d3adbbc9a8b_14.jpg',\n",
              " './output/train/0d3adbbc9a8b_15.jpg',\n",
              " './output/train/0d3adbbc9a8b_16.jpg',\n",
              " './output/train/0d53224da2b7_01.jpg',\n",
              " './output/train/0d53224da2b7_02.jpg',\n",
              " './output/train/0d53224da2b7_03.jpg',\n",
              " './output/train/0d53224da2b7_04.jpg',\n",
              " './output/train/0d53224da2b7_05.jpg',\n",
              " './output/train/0d53224da2b7_06.jpg',\n",
              " './output/train/0d53224da2b7_07.jpg',\n",
              " './output/train/0d53224da2b7_08.jpg',\n",
              " './output/train/0d53224da2b7_09.jpg',\n",
              " './output/train/0d53224da2b7_10.jpg',\n",
              " './output/train/0d53224da2b7_11.jpg',\n",
              " './output/train/0d53224da2b7_12.jpg',\n",
              " './output/train/0d53224da2b7_13.jpg',\n",
              " './output/train/0d53224da2b7_14.jpg',\n",
              " './output/train/0d53224da2b7_15.jpg',\n",
              " './output/train/0d53224da2b7_16.jpg',\n",
              " './output/train/0de66245f268_01.jpg',\n",
              " './output/train/0de66245f268_02.jpg',\n",
              " './output/train/0de66245f268_03.jpg',\n",
              " './output/train/0de66245f268_04.jpg',\n",
              " './output/train/0de66245f268_05.jpg',\n",
              " './output/train/0de66245f268_06.jpg',\n",
              " './output/train/0de66245f268_07.jpg',\n",
              " './output/train/0de66245f268_08.jpg',\n",
              " './output/train/0de66245f268_09.jpg',\n",
              " './output/train/0de66245f268_10.jpg',\n",
              " './output/train/0de66245f268_11.jpg',\n",
              " './output/train/0de66245f268_12.jpg',\n",
              " './output/train/0de66245f268_13.jpg',\n",
              " './output/train/0de66245f268_14.jpg',\n",
              " './output/train/0de66245f268_15.jpg',\n",
              " './output/train/0de66245f268_16.jpg',\n",
              " './output/train/0ed6904e1004_01.jpg',\n",
              " './output/train/0ed6904e1004_02.jpg',\n",
              " './output/train/0ed6904e1004_03.jpg',\n",
              " './output/train/0ed6904e1004_04.jpg',\n",
              " './output/train/0ed6904e1004_05.jpg',\n",
              " './output/train/0ed6904e1004_06.jpg',\n",
              " './output/train/0ed6904e1004_07.jpg',\n",
              " './output/train/0ed6904e1004_08.jpg',\n",
              " './output/train/0ed6904e1004_09.jpg',\n",
              " './output/train/0ed6904e1004_10.jpg',\n",
              " './output/train/0ed6904e1004_11.jpg',\n",
              " './output/train/0ed6904e1004_12.jpg',\n",
              " './output/train/0ed6904e1004_13.jpg',\n",
              " './output/train/0ed6904e1004_14.jpg',\n",
              " './output/train/0ed6904e1004_15.jpg',\n",
              " './output/train/0ed6904e1004_16.jpg',\n",
              " './output/train/0ee135a3cccc_01.jpg',\n",
              " './output/train/0ee135a3cccc_02.jpg',\n",
              " './output/train/0ee135a3cccc_03.jpg',\n",
              " './output/train/0ee135a3cccc_04.jpg',\n",
              " './output/train/0ee135a3cccc_05.jpg',\n",
              " './output/train/0ee135a3cccc_06.jpg',\n",
              " './output/train/0ee135a3cccc_07.jpg',\n",
              " './output/train/0ee135a3cccc_08.jpg',\n",
              " './output/train/0ee135a3cccc_09.jpg',\n",
              " './output/train/0ee135a3cccc_10.jpg',\n",
              " './output/train/0ee135a3cccc_11.jpg',\n",
              " './output/train/0ee135a3cccc_12.jpg',\n",
              " './output/train/0ee135a3cccc_13.jpg',\n",
              " './output/train/0ee135a3cccc_14.jpg',\n",
              " './output/train/0ee135a3cccc_15.jpg',\n",
              " './output/train/0ee135a3cccc_16.jpg',\n",
              " './output/train/0eeaf1ff136d_01.jpg',\n",
              " './output/train/0eeaf1ff136d_02.jpg',\n",
              " './output/train/0eeaf1ff136d_03.jpg',\n",
              " './output/train/0eeaf1ff136d_04.jpg',\n",
              " './output/train/0eeaf1ff136d_05.jpg',\n",
              " './output/train/0eeaf1ff136d_06.jpg',\n",
              " './output/train/0eeaf1ff136d_07.jpg',\n",
              " './output/train/0eeaf1ff136d_08.jpg',\n",
              " './output/train/0eeaf1ff136d_09.jpg',\n",
              " './output/train/0eeaf1ff136d_10.jpg',\n",
              " './output/train/0eeaf1ff136d_11.jpg',\n",
              " './output/train/0eeaf1ff136d_12.jpg',\n",
              " './output/train/0eeaf1ff136d_13.jpg',\n",
              " './output/train/0eeaf1ff136d_14.jpg',\n",
              " './output/train/0eeaf1ff136d_15.jpg',\n",
              " './output/train/0eeaf1ff136d_16.jpg',\n",
              " './output/train/11acc40dc0ea_01.jpg',\n",
              " './output/train/11acc40dc0ea_02.jpg',\n",
              " './output/train/11acc40dc0ea_03.jpg',\n",
              " './output/train/11acc40dc0ea_04.jpg',\n",
              " './output/train/11acc40dc0ea_05.jpg',\n",
              " './output/train/11acc40dc0ea_06.jpg',\n",
              " './output/train/11acc40dc0ea_07.jpg',\n",
              " './output/train/11acc40dc0ea_08.jpg',\n",
              " './output/train/11acc40dc0ea_09.jpg',\n",
              " './output/train/11acc40dc0ea_10.jpg',\n",
              " './output/train/11acc40dc0ea_11.jpg',\n",
              " './output/train/11acc40dc0ea_12.jpg',\n",
              " './output/train/11acc40dc0ea_13.jpg',\n",
              " './output/train/11acc40dc0ea_14.jpg',\n",
              " './output/train/11acc40dc0ea_15.jpg',\n",
              " './output/train/11acc40dc0ea_16.jpg',\n",
              " './output/train/11f3dc041cfb_01.jpg',\n",
              " './output/train/11f3dc041cfb_02.jpg',\n",
              " './output/train/11f3dc041cfb_03.jpg',\n",
              " './output/train/11f3dc041cfb_04.jpg',\n",
              " './output/train/11f3dc041cfb_05.jpg',\n",
              " './output/train/11f3dc041cfb_06.jpg',\n",
              " './output/train/11f3dc041cfb_07.jpg',\n",
              " './output/train/11f3dc041cfb_08.jpg',\n",
              " './output/train/11f3dc041cfb_09.jpg',\n",
              " './output/train/11f3dc041cfb_10.jpg',\n",
              " './output/train/11f3dc041cfb_11.jpg',\n",
              " './output/train/11f3dc041cfb_12.jpg',\n",
              " './output/train/11f3dc041cfb_13.jpg',\n",
              " './output/train/11f3dc041cfb_14.jpg',\n",
              " './output/train/11f3dc041cfb_15.jpg',\n",
              " './output/train/11f3dc041cfb_16.jpg',\n",
              " './output/train/11fcda0a9e1c_01.jpg',\n",
              " './output/train/11fcda0a9e1c_02.jpg',\n",
              " './output/train/11fcda0a9e1c_03.jpg',\n",
              " './output/train/11fcda0a9e1c_04.jpg',\n",
              " './output/train/11fcda0a9e1c_05.jpg',\n",
              " './output/train/11fcda0a9e1c_06.jpg',\n",
              " './output/train/11fcda0a9e1c_07.jpg',\n",
              " './output/train/11fcda0a9e1c_08.jpg',\n",
              " './output/train/11fcda0a9e1c_09.jpg',\n",
              " './output/train/11fcda0a9e1c_10.jpg',\n",
              " './output/train/11fcda0a9e1c_11.jpg',\n",
              " './output/train/11fcda0a9e1c_12.jpg',\n",
              " './output/train/11fcda0a9e1c_13.jpg',\n",
              " './output/train/11fcda0a9e1c_14.jpg',\n",
              " './output/train/11fcda0a9e1c_15.jpg',\n",
              " './output/train/11fcda0a9e1c_16.jpg',\n",
              " './output/train/120c1dc7b116_01.jpg',\n",
              " './output/train/120c1dc7b116_02.jpg',\n",
              " './output/train/120c1dc7b116_03.jpg',\n",
              " './output/train/120c1dc7b116_04.jpg',\n",
              " './output/train/120c1dc7b116_05.jpg',\n",
              " './output/train/120c1dc7b116_06.jpg',\n",
              " './output/train/120c1dc7b116_07.jpg',\n",
              " './output/train/120c1dc7b116_08.jpg',\n",
              " './output/train/120c1dc7b116_09.jpg',\n",
              " './output/train/120c1dc7b116_10.jpg',\n",
              " './output/train/120c1dc7b116_11.jpg',\n",
              " './output/train/120c1dc7b116_12.jpg',\n",
              " './output/train/120c1dc7b116_13.jpg',\n",
              " './output/train/120c1dc7b116_14.jpg',\n",
              " './output/train/120c1dc7b116_15.jpg',\n",
              " './output/train/120c1dc7b116_16.jpg',\n",
              " './output/train/1258cf954183_01.jpg',\n",
              " './output/train/1258cf954183_02.jpg',\n",
              " './output/train/1258cf954183_03.jpg',\n",
              " './output/train/1258cf954183_04.jpg',\n",
              " './output/train/1258cf954183_05.jpg',\n",
              " './output/train/1258cf954183_06.jpg',\n",
              " './output/train/1258cf954183_07.jpg',\n",
              " './output/train/1258cf954183_08.jpg',\n",
              " './output/train/1258cf954183_09.jpg',\n",
              " './output/train/1258cf954183_10.jpg',\n",
              " './output/train/1258cf954183_11.jpg',\n",
              " './output/train/1258cf954183_12.jpg',\n",
              " './output/train/1258cf954183_13.jpg',\n",
              " './output/train/1258cf954183_14.jpg',\n",
              " './output/train/1258cf954183_15.jpg',\n",
              " './output/train/1258cf954183_16.jpg',\n",
              " './output/train/125cadcb9feb_01.jpg',\n",
              " './output/train/125cadcb9feb_02.jpg',\n",
              " './output/train/125cadcb9feb_03.jpg',\n",
              " './output/train/125cadcb9feb_04.jpg',\n",
              " './output/train/125cadcb9feb_05.jpg',\n",
              " './output/train/125cadcb9feb_06.jpg',\n",
              " './output/train/125cadcb9feb_07.jpg',\n",
              " './output/train/125cadcb9feb_08.jpg',\n",
              " './output/train/125cadcb9feb_09.jpg',\n",
              " './output/train/125cadcb9feb_10.jpg',\n",
              " './output/train/125cadcb9feb_11.jpg',\n",
              " './output/train/125cadcb9feb_12.jpg',\n",
              " './output/train/125cadcb9feb_13.jpg',\n",
              " './output/train/125cadcb9feb_14.jpg',\n",
              " './output/train/125cadcb9feb_15.jpg',\n",
              " './output/train/125cadcb9feb_16.jpg',\n",
              " './output/train/1390696b70b6_01.jpg',\n",
              " './output/train/1390696b70b6_02.jpg',\n",
              " './output/train/1390696b70b6_03.jpg',\n",
              " './output/train/1390696b70b6_04.jpg',\n",
              " './output/train/1390696b70b6_05.jpg',\n",
              " './output/train/1390696b70b6_06.jpg',\n",
              " './output/train/1390696b70b6_07.jpg',\n",
              " './output/train/1390696b70b6_08.jpg',\n",
              " './output/train/1390696b70b6_09.jpg',\n",
              " './output/train/1390696b70b6_10.jpg',\n",
              " './output/train/1390696b70b6_11.jpg',\n",
              " './output/train/1390696b70b6_12.jpg',\n",
              " './output/train/1390696b70b6_13.jpg',\n",
              " './output/train/1390696b70b6_14.jpg',\n",
              " './output/train/1390696b70b6_15.jpg',\n",
              " './output/train/1390696b70b6_16.jpg',\n",
              " './output/train/13cad6eeabe8_01.jpg',\n",
              " './output/train/13cad6eeabe8_02.jpg',\n",
              " './output/train/13cad6eeabe8_03.jpg',\n",
              " './output/train/13cad6eeabe8_04.jpg',\n",
              " './output/train/13cad6eeabe8_05.jpg',\n",
              " './output/train/13cad6eeabe8_06.jpg',\n",
              " './output/train/13cad6eeabe8_07.jpg',\n",
              " './output/train/13cad6eeabe8_08.jpg',\n",
              " './output/train/13cad6eeabe8_09.jpg',\n",
              " './output/train/13cad6eeabe8_10.jpg',\n",
              " './output/train/13cad6eeabe8_11.jpg',\n",
              " './output/train/13cad6eeabe8_12.jpg',\n",
              " './output/train/13cad6eeabe8_13.jpg',\n",
              " './output/train/13cad6eeabe8_14.jpg',\n",
              " './output/train/13cad6eeabe8_15.jpg',\n",
              " './output/train/13cad6eeabe8_16.jpg',\n",
              " './output/train/151c7f2d4183_01.jpg',\n",
              " './output/train/151c7f2d4183_02.jpg',\n",
              " './output/train/151c7f2d4183_03.jpg',\n",
              " './output/train/151c7f2d4183_04.jpg',\n",
              " './output/train/151c7f2d4183_05.jpg',\n",
              " './output/train/151c7f2d4183_06.jpg',\n",
              " './output/train/151c7f2d4183_07.jpg',\n",
              " './output/train/151c7f2d4183_08.jpg',\n",
              " './output/train/151c7f2d4183_09.jpg',\n",
              " './output/train/151c7f2d4183_10.jpg',\n",
              " './output/train/151c7f2d4183_11.jpg',\n",
              " './output/train/151c7f2d4183_12.jpg',\n",
              " './output/train/151c7f2d4183_13.jpg',\n",
              " './output/train/151c7f2d4183_14.jpg',\n",
              " './output/train/151c7f2d4183_15.jpg',\n",
              " './output/train/151c7f2d4183_16.jpg',\n",
              " './output/train/154ee2b6d27a_01.jpg',\n",
              " './output/train/154ee2b6d27a_02.jpg',\n",
              " './output/train/154ee2b6d27a_03.jpg',\n",
              " './output/train/154ee2b6d27a_04.jpg',\n",
              " './output/train/154ee2b6d27a_05.jpg',\n",
              " './output/train/154ee2b6d27a_06.jpg',\n",
              " './output/train/154ee2b6d27a_07.jpg',\n",
              " './output/train/154ee2b6d27a_08.jpg',\n",
              " './output/train/154ee2b6d27a_09.jpg',\n",
              " './output/train/154ee2b6d27a_10.jpg',\n",
              " './output/train/154ee2b6d27a_11.jpg',\n",
              " './output/train/154ee2b6d27a_12.jpg',\n",
              " './output/train/154ee2b6d27a_13.jpg',\n",
              " './output/train/154ee2b6d27a_14.jpg',\n",
              " './output/train/154ee2b6d27a_15.jpg',\n",
              " './output/train/154ee2b6d27a_16.jpg',\n",
              " './output/train/169f5f6d8c9d_01.jpg',\n",
              " './output/train/169f5f6d8c9d_02.jpg',\n",
              " './output/train/169f5f6d8c9d_03.jpg',\n",
              " './output/train/169f5f6d8c9d_04.jpg',\n",
              " './output/train/169f5f6d8c9d_05.jpg',\n",
              " './output/train/169f5f6d8c9d_06.jpg',\n",
              " './output/train/169f5f6d8c9d_07.jpg',\n",
              " './output/train/169f5f6d8c9d_08.jpg',\n",
              " './output/train/169f5f6d8c9d_09.jpg',\n",
              " './output/train/169f5f6d8c9d_10.jpg',\n",
              " './output/train/169f5f6d8c9d_11.jpg',\n",
              " './output/train/169f5f6d8c9d_12.jpg',\n",
              " './output/train/169f5f6d8c9d_13.jpg',\n",
              " './output/train/169f5f6d8c9d_14.jpg',\n",
              " './output/train/169f5f6d8c9d_15.jpg',\n",
              " './output/train/169f5f6d8c9d_16.jpg',\n",
              " './output/train/16f0ec26d608_01.jpg',\n",
              " './output/train/16f0ec26d608_02.jpg',\n",
              " './output/train/16f0ec26d608_03.jpg',\n",
              " './output/train/16f0ec26d608_04.jpg',\n",
              " './output/train/16f0ec26d608_05.jpg',\n",
              " './output/train/16f0ec26d608_06.jpg',\n",
              " './output/train/16f0ec26d608_07.jpg',\n",
              " './output/train/16f0ec26d608_08.jpg',\n",
              " './output/train/16f0ec26d608_09.jpg',\n",
              " './output/train/16f0ec26d608_10.jpg',\n",
              " './output/train/16f0ec26d608_11.jpg',\n",
              " './output/train/16f0ec26d608_12.jpg',\n",
              " './output/train/16f0ec26d608_13.jpg',\n",
              " './output/train/16f0ec26d608_14.jpg',\n",
              " './output/train/16f0ec26d608_15.jpg',\n",
              " './output/train/16f0ec26d608_16.jpg',\n",
              " './output/train/189a2a32a615_01.jpg',\n",
              " './output/train/189a2a32a615_02.jpg',\n",
              " './output/train/189a2a32a615_03.jpg',\n",
              " './output/train/189a2a32a615_04.jpg',\n",
              " './output/train/189a2a32a615_05.jpg',\n",
              " './output/train/189a2a32a615_06.jpg',\n",
              " './output/train/189a2a32a615_07.jpg',\n",
              " './output/train/189a2a32a615_08.jpg',\n",
              " './output/train/189a2a32a615_09.jpg',\n",
              " './output/train/189a2a32a615_10.jpg',\n",
              " './output/train/189a2a32a615_11.jpg',\n",
              " './output/train/189a2a32a615_12.jpg',\n",
              " './output/train/189a2a32a615_13.jpg',\n",
              " './output/train/189a2a32a615_14.jpg',\n",
              " './output/train/189a2a32a615_15.jpg',\n",
              " './output/train/189a2a32a615_16.jpg',\n",
              " './output/train/1952e5f91de0_01.jpg',\n",
              " './output/train/1952e5f91de0_02.jpg',\n",
              " './output/train/1952e5f91de0_03.jpg',\n",
              " './output/train/1952e5f91de0_04.jpg',\n",
              " './output/train/1952e5f91de0_05.jpg',\n",
              " './output/train/1952e5f91de0_06.jpg',\n",
              " './output/train/1952e5f91de0_07.jpg',\n",
              " './output/train/1952e5f91de0_08.jpg',\n",
              " './output/train/1952e5f91de0_09.jpg',\n",
              " './output/train/1952e5f91de0_10.jpg',\n",
              " './output/train/1952e5f91de0_11.jpg',\n",
              " './output/train/1952e5f91de0_12.jpg',\n",
              " './output/train/1952e5f91de0_13.jpg',\n",
              " './output/train/1952e5f91de0_14.jpg',\n",
              " './output/train/1952e5f91de0_15.jpg',\n",
              " './output/train/1952e5f91de0_16.jpg',\n",
              " './output/train/1a17a1bd648b_01.jpg',\n",
              " './output/train/1a17a1bd648b_02.jpg',\n",
              " './output/train/1a17a1bd648b_03.jpg',\n",
              " './output/train/1a17a1bd648b_04.jpg',\n",
              " './output/train/1a17a1bd648b_05.jpg',\n",
              " './output/train/1a17a1bd648b_06.jpg',\n",
              " './output/train/1a17a1bd648b_07.jpg',\n",
              " './output/train/1a17a1bd648b_08.jpg',\n",
              " './output/train/1a17a1bd648b_09.jpg',\n",
              " './output/train/1a17a1bd648b_10.jpg',\n",
              " './output/train/1a17a1bd648b_11.jpg',\n",
              " './output/train/1a17a1bd648b_12.jpg',\n",
              " './output/train/1a17a1bd648b_13.jpg',\n",
              " './output/train/1a17a1bd648b_14.jpg',\n",
              " './output/train/1a17a1bd648b_15.jpg',\n",
              " './output/train/1a17a1bd648b_16.jpg',\n",
              " './output/train/1aba91a601c6_01.jpg',\n",
              " './output/train/1aba91a601c6_02.jpg',\n",
              " './output/train/1aba91a601c6_03.jpg',\n",
              " './output/train/1aba91a601c6_04.jpg',\n",
              " './output/train/1aba91a601c6_05.jpg',\n",
              " './output/train/1aba91a601c6_06.jpg',\n",
              " './output/train/1aba91a601c6_07.jpg',\n",
              " './output/train/1aba91a601c6_08.jpg',\n",
              " './output/train/1aba91a601c6_09.jpg',\n",
              " './output/train/1aba91a601c6_10.jpg',\n",
              " './output/train/1aba91a601c6_11.jpg',\n",
              " './output/train/1aba91a601c6_12.jpg',\n",
              " './output/train/1aba91a601c6_13.jpg',\n",
              " './output/train/1aba91a601c6_14.jpg',\n",
              " './output/train/1aba91a601c6_15.jpg',\n",
              " './output/train/1aba91a601c6_16.jpg',\n",
              " './output/train/1adaeb44f109_01.jpg',\n",
              " './output/train/1adaeb44f109_02.jpg',\n",
              " './output/train/1adaeb44f109_03.jpg',\n",
              " './output/train/1adaeb44f109_04.jpg',\n",
              " './output/train/1adaeb44f109_05.jpg',\n",
              " './output/train/1adaeb44f109_06.jpg',\n",
              " './output/train/1adaeb44f109_07.jpg',\n",
              " './output/train/1adaeb44f109_08.jpg',\n",
              " './output/train/1adaeb44f109_09.jpg',\n",
              " './output/train/1adaeb44f109_10.jpg',\n",
              " './output/train/1adaeb44f109_11.jpg',\n",
              " './output/train/1adaeb44f109_12.jpg',\n",
              " './output/train/1adaeb44f109_13.jpg',\n",
              " './output/train/1adaeb44f109_14.jpg',\n",
              " './output/train/1adaeb44f109_15.jpg',\n",
              " './output/train/1adaeb44f109_16.jpg',\n",
              " './output/train/1ae8a68a40e4_01.jpg',\n",
              " './output/train/1ae8a68a40e4_02.jpg',\n",
              " './output/train/1ae8a68a40e4_03.jpg',\n",
              " './output/train/1ae8a68a40e4_04.jpg',\n",
              " './output/train/1ae8a68a40e4_05.jpg',\n",
              " './output/train/1ae8a68a40e4_06.jpg',\n",
              " './output/train/1ae8a68a40e4_07.jpg',\n",
              " './output/train/1ae8a68a40e4_08.jpg',\n",
              " './output/train/1ae8a68a40e4_09.jpg',\n",
              " './output/train/1ae8a68a40e4_10.jpg',\n",
              " './output/train/1ae8a68a40e4_11.jpg',\n",
              " './output/train/1ae8a68a40e4_12.jpg',\n",
              " './output/train/1ae8a68a40e4_13.jpg',\n",
              " './output/train/1ae8a68a40e4_14.jpg',\n",
              " './output/train/1ae8a68a40e4_15.jpg',\n",
              " './output/train/1ae8a68a40e4_16.jpg',\n",
              " './output/train/1b25ea8ba94d_01.jpg',\n",
              " './output/train/1b25ea8ba94d_02.jpg',\n",
              " './output/train/1b25ea8ba94d_03.jpg',\n",
              " './output/train/1b25ea8ba94d_04.jpg',\n",
              " './output/train/1b25ea8ba94d_05.jpg',\n",
              " './output/train/1b25ea8ba94d_06.jpg',\n",
              " './output/train/1b25ea8ba94d_07.jpg',\n",
              " './output/train/1b25ea8ba94d_08.jpg',\n",
              " './output/train/1b25ea8ba94d_09.jpg',\n",
              " './output/train/1b25ea8ba94d_10.jpg',\n",
              " './output/train/1b25ea8ba94d_11.jpg',\n",
              " './output/train/1b25ea8ba94d_12.jpg',\n",
              " './output/train/1b25ea8ba94d_13.jpg',\n",
              " './output/train/1b25ea8ba94d_14.jpg',\n",
              " './output/train/1b25ea8ba94d_15.jpg',\n",
              " './output/train/1b25ea8ba94d_16.jpg',\n",
              " './output/train/1ba84b81628e_01.jpg',\n",
              " './output/train/1ba84b81628e_02.jpg',\n",
              " './output/train/1ba84b81628e_03.jpg',\n",
              " './output/train/1ba84b81628e_04.jpg',\n",
              " './output/train/1ba84b81628e_05.jpg',\n",
              " './output/train/1ba84b81628e_06.jpg',\n",
              " './output/train/1ba84b81628e_07.jpg',\n",
              " './output/train/1ba84b81628e_08.jpg',\n",
              " './output/train/1ba84b81628e_09.jpg',\n",
              " './output/train/1ba84b81628e_10.jpg',\n",
              " './output/train/1ba84b81628e_11.jpg',\n",
              " './output/train/1ba84b81628e_12.jpg',\n",
              " './output/train/1ba84b81628e_13.jpg',\n",
              " './output/train/1ba84b81628e_14.jpg',\n",
              " './output/train/1ba84b81628e_15.jpg',\n",
              " './output/train/1ba84b81628e_16.jpg',\n",
              " './output/train/1c5748340af8_01.jpg',\n",
              " './output/train/1c5748340af8_02.jpg',\n",
              " './output/train/1c5748340af8_03.jpg',\n",
              " './output/train/1c5748340af8_04.jpg',\n",
              " './output/train/1c5748340af8_05.jpg',\n",
              " './output/train/1c5748340af8_06.jpg',\n",
              " './output/train/1c5748340af8_07.jpg',\n",
              " './output/train/1c5748340af8_08.jpg',\n",
              " './output/train/1c5748340af8_09.jpg',\n",
              " './output/train/1c5748340af8_10.jpg',\n",
              " './output/train/1c5748340af8_11.jpg',\n",
              " './output/train/1c5748340af8_12.jpg',\n",
              " './output/train/1c5748340af8_13.jpg',\n",
              " './output/train/1c5748340af8_14.jpg',\n",
              " './output/train/1c5748340af8_15.jpg',\n",
              " './output/train/1c5748340af8_16.jpg',\n",
              " './output/train/1e6f48393e17_01.jpg',\n",
              " './output/train/1e6f48393e17_02.jpg',\n",
              " './output/train/1e6f48393e17_03.jpg',\n",
              " './output/train/1e6f48393e17_04.jpg',\n",
              " './output/train/1e6f48393e17_05.jpg',\n",
              " './output/train/1e6f48393e17_06.jpg',\n",
              " './output/train/1e6f48393e17_07.jpg',\n",
              " './output/train/1e6f48393e17_08.jpg',\n",
              " './output/train/1e6f48393e17_09.jpg',\n",
              " './output/train/1e6f48393e17_10.jpg',\n",
              " './output/train/1e6f48393e17_11.jpg',\n",
              " './output/train/1e6f48393e17_12.jpg',\n",
              " './output/train/1e6f48393e17_13.jpg',\n",
              " './output/train/1e6f48393e17_14.jpg',\n",
              " './output/train/1e6f48393e17_15.jpg',\n",
              " './output/train/1e6f48393e17_16.jpg',\n",
              " './output/train/1e89e1af42e7_01.jpg',\n",
              " './output/train/1e89e1af42e7_02.jpg',\n",
              " './output/train/1e89e1af42e7_03.jpg',\n",
              " './output/train/1e89e1af42e7_04.jpg',\n",
              " './output/train/1e89e1af42e7_05.jpg',\n",
              " './output/train/1e89e1af42e7_06.jpg',\n",
              " './output/train/1e89e1af42e7_07.jpg',\n",
              " './output/train/1e89e1af42e7_08.jpg',\n",
              " './output/train/1e89e1af42e7_09.jpg',\n",
              " './output/train/1e89e1af42e7_10.jpg',\n",
              " './output/train/1e89e1af42e7_11.jpg',\n",
              " './output/train/1e89e1af42e7_12.jpg',\n",
              " './output/train/1e89e1af42e7_13.jpg',\n",
              " './output/train/1e89e1af42e7_14.jpg',\n",
              " './output/train/1e89e1af42e7_15.jpg',\n",
              " './output/train/1e89e1af42e7_16.jpg',\n",
              " './output/train/21a7e6726ee3_01.jpg',\n",
              " './output/train/21a7e6726ee3_02.jpg',\n",
              " './output/train/21a7e6726ee3_03.jpg',\n",
              " './output/train/21a7e6726ee3_04.jpg',\n",
              " './output/train/21a7e6726ee3_05.jpg',\n",
              " './output/train/21a7e6726ee3_06.jpg',\n",
              " './output/train/21a7e6726ee3_07.jpg',\n",
              " './output/train/21a7e6726ee3_08.jpg',\n",
              " './output/train/21a7e6726ee3_09.jpg',\n",
              " './output/train/21a7e6726ee3_10.jpg',\n",
              " './output/train/21a7e6726ee3_11.jpg',\n",
              " './output/train/21a7e6726ee3_12.jpg',\n",
              " './output/train/21a7e6726ee3_13.jpg',\n",
              " './output/train/21a7e6726ee3_14.jpg',\n",
              " './output/train/21a7e6726ee3_15.jpg',\n",
              " './output/train/21a7e6726ee3_16.jpg',\n",
              " './output/train/2267f4aa0d2c_01.jpg',\n",
              " './output/train/2267f4aa0d2c_02.jpg',\n",
              " './output/train/2267f4aa0d2c_03.jpg',\n",
              " './output/train/2267f4aa0d2c_04.jpg',\n",
              " './output/train/2267f4aa0d2c_05.jpg',\n",
              " './output/train/2267f4aa0d2c_06.jpg',\n",
              " './output/train/2267f4aa0d2c_07.jpg',\n",
              " './output/train/2267f4aa0d2c_08.jpg',\n",
              " './output/train/2267f4aa0d2c_09.jpg',\n",
              " './output/train/2267f4aa0d2c_10.jpg',\n",
              " './output/train/2267f4aa0d2c_11.jpg',\n",
              " './output/train/2267f4aa0d2c_12.jpg',\n",
              " './output/train/2267f4aa0d2c_13.jpg',\n",
              " './output/train/2267f4aa0d2c_14.jpg',\n",
              " './output/train/2267f4aa0d2c_15.jpg',\n",
              " './output/train/2267f4aa0d2c_16.jpg',\n",
              " './output/train/2335eef27de6_01.jpg',\n",
              " './output/train/2335eef27de6_02.jpg',\n",
              " './output/train/2335eef27de6_03.jpg',\n",
              " './output/train/2335eef27de6_04.jpg',\n",
              " './output/train/2335eef27de6_05.jpg',\n",
              " './output/train/2335eef27de6_06.jpg',\n",
              " './output/train/2335eef27de6_07.jpg',\n",
              " './output/train/2335eef27de6_08.jpg',\n",
              " './output/train/2335eef27de6_09.jpg',\n",
              " './output/train/2335eef27de6_10.jpg',\n",
              " './output/train/2335eef27de6_11.jpg',\n",
              " './output/train/2335eef27de6_12.jpg',\n",
              " './output/train/2335eef27de6_13.jpg',\n",
              " './output/train/2335eef27de6_14.jpg',\n",
              " './output/train/2335eef27de6_15.jpg',\n",
              " './output/train/2335eef27de6_16.jpg',\n",
              " './output/train/23c088f6ec27_01.jpg',\n",
              " './output/train/23c088f6ec27_02.jpg',\n",
              " './output/train/23c088f6ec27_03.jpg',\n",
              " './output/train/23c088f6ec27_04.jpg',\n",
              " './output/train/23c088f6ec27_05.jpg',\n",
              " './output/train/23c088f6ec27_06.jpg',\n",
              " './output/train/23c088f6ec27_07.jpg',\n",
              " './output/train/23c088f6ec27_08.jpg',\n",
              " './output/train/23c088f6ec27_09.jpg',\n",
              " './output/train/23c088f6ec27_10.jpg',\n",
              " './output/train/23c088f6ec27_11.jpg',\n",
              " './output/train/23c088f6ec27_12.jpg',\n",
              " './output/train/23c088f6ec27_13.jpg',\n",
              " './output/train/23c088f6ec27_14.jpg',\n",
              " './output/train/23c088f6ec27_15.jpg',\n",
              " './output/train/23c088f6ec27_16.jpg',\n",
              " './output/train/245f9c9eab8a_01.jpg',\n",
              " './output/train/245f9c9eab8a_02.jpg',\n",
              " './output/train/245f9c9eab8a_03.jpg',\n",
              " './output/train/245f9c9eab8a_04.jpg',\n",
              " './output/train/245f9c9eab8a_05.jpg',\n",
              " './output/train/245f9c9eab8a_06.jpg',\n",
              " './output/train/245f9c9eab8a_07.jpg',\n",
              " './output/train/245f9c9eab8a_08.jpg',\n",
              " './output/train/245f9c9eab8a_09.jpg',\n",
              " './output/train/245f9c9eab8a_10.jpg',\n",
              " './output/train/245f9c9eab8a_11.jpg',\n",
              " './output/train/245f9c9eab8a_12.jpg',\n",
              " './output/train/245f9c9eab8a_13.jpg',\n",
              " './output/train/245f9c9eab8a_14.jpg',\n",
              " './output/train/245f9c9eab8a_15.jpg',\n",
              " './output/train/245f9c9eab8a_16.jpg',\n",
              " './output/train/26ccab021981_01.jpg',\n",
              " './output/train/26ccab021981_02.jpg',\n",
              " './output/train/26ccab021981_03.jpg',\n",
              " './output/train/26ccab021981_04.jpg',\n",
              " './output/train/26ccab021981_05.jpg',\n",
              " './output/train/26ccab021981_06.jpg',\n",
              " './output/train/26ccab021981_07.jpg',\n",
              " './output/train/26ccab021981_08.jpg',\n",
              " './output/train/26ccab021981_09.jpg',\n",
              " './output/train/26ccab021981_10.jpg',\n",
              " './output/train/26ccab021981_11.jpg',\n",
              " './output/train/26ccab021981_12.jpg',\n",
              " './output/train/26ccab021981_13.jpg',\n",
              " './output/train/26ccab021981_14.jpg',\n",
              " './output/train/26ccab021981_15.jpg',\n",
              " './output/train/26ccab021981_16.jpg',\n",
              " './output/train/28109f18d9d4_01.jpg',\n",
              " './output/train/28109f18d9d4_02.jpg',\n",
              " './output/train/28109f18d9d4_03.jpg',\n",
              " './output/train/28109f18d9d4_04.jpg',\n",
              " './output/train/28109f18d9d4_05.jpg',\n",
              " './output/train/28109f18d9d4_06.jpg',\n",
              " './output/train/28109f18d9d4_07.jpg',\n",
              " './output/train/28109f18d9d4_08.jpg',\n",
              " './output/train/28109f18d9d4_09.jpg',\n",
              " './output/train/28109f18d9d4_10.jpg',\n",
              " './output/train/28109f18d9d4_11.jpg',\n",
              " './output/train/28109f18d9d4_12.jpg',\n",
              " './output/train/28109f18d9d4_13.jpg',\n",
              " './output/train/28109f18d9d4_14.jpg',\n",
              " './output/train/28109f18d9d4_15.jpg',\n",
              " './output/train/28109f18d9d4_16.jpg',\n",
              " './output/train/28d7fb5ba432_01.jpg',\n",
              " './output/train/28d7fb5ba432_02.jpg',\n",
              " './output/train/28d7fb5ba432_03.jpg',\n",
              " './output/train/28d7fb5ba432_04.jpg',\n",
              " './output/train/28d7fb5ba432_05.jpg',\n",
              " './output/train/28d7fb5ba432_06.jpg',\n",
              " './output/train/28d7fb5ba432_07.jpg',\n",
              " './output/train/28d7fb5ba432_08.jpg',\n",
              " './output/train/28d7fb5ba432_09.jpg',\n",
              " './output/train/28d7fb5ba432_10.jpg',\n",
              " './output/train/28d7fb5ba432_11.jpg',\n",
              " './output/train/28d7fb5ba432_12.jpg',\n",
              " './output/train/28d7fb5ba432_13.jpg',\n",
              " './output/train/28d7fb5ba432_14.jpg',\n",
              " './output/train/28d7fb5ba432_15.jpg',\n",
              " './output/train/28d7fb5ba432_16.jpg',\n",
              " './output/train/28d9a149cb02_01.jpg',\n",
              " './output/train/28d9a149cb02_02.jpg',\n",
              " './output/train/28d9a149cb02_03.jpg',\n",
              " './output/train/28d9a149cb02_04.jpg',\n",
              " './output/train/28d9a149cb02_05.jpg',\n",
              " './output/train/28d9a149cb02_06.jpg',\n",
              " './output/train/28d9a149cb02_07.jpg',\n",
              " './output/train/28d9a149cb02_08.jpg',\n",
              " './output/train/28d9a149cb02_09.jpg',\n",
              " './output/train/28d9a149cb02_10.jpg',\n",
              " './output/train/28d9a149cb02_11.jpg',\n",
              " './output/train/28d9a149cb02_12.jpg',\n",
              " './output/train/28d9a149cb02_13.jpg',\n",
              " './output/train/28d9a149cb02_14.jpg',\n",
              " './output/train/28d9a149cb02_15.jpg',\n",
              " './output/train/28d9a149cb02_16.jpg',\n",
              " './output/train/292f59c6a347_01.jpg',\n",
              " './output/train/292f59c6a347_02.jpg',\n",
              " './output/train/292f59c6a347_03.jpg',\n",
              " './output/train/292f59c6a347_04.jpg',\n",
              " './output/train/292f59c6a347_05.jpg',\n",
              " './output/train/292f59c6a347_06.jpg',\n",
              " './output/train/292f59c6a347_07.jpg',\n",
              " './output/train/292f59c6a347_08.jpg',\n",
              " './output/train/292f59c6a347_09.jpg',\n",
              " './output/train/292f59c6a347_10.jpg',\n",
              " './output/train/292f59c6a347_11.jpg',\n",
              " './output/train/292f59c6a347_12.jpg',\n",
              " './output/train/292f59c6a347_13.jpg',\n",
              " './output/train/292f59c6a347_14.jpg',\n",
              " './output/train/292f59c6a347_15.jpg',\n",
              " './output/train/292f59c6a347_16.jpg',\n",
              " './output/train/293a0fa72e5b_01.jpg',\n",
              " './output/train/293a0fa72e5b_02.jpg',\n",
              " './output/train/293a0fa72e5b_03.jpg',\n",
              " './output/train/293a0fa72e5b_04.jpg',\n",
              " './output/train/293a0fa72e5b_05.jpg',\n",
              " './output/train/293a0fa72e5b_06.jpg',\n",
              " './output/train/293a0fa72e5b_07.jpg',\n",
              " './output/train/293a0fa72e5b_08.jpg',\n",
              " './output/train/293a0fa72e5b_09.jpg',\n",
              " './output/train/293a0fa72e5b_10.jpg',\n",
              " './output/train/293a0fa72e5b_11.jpg',\n",
              " './output/train/293a0fa72e5b_12.jpg',\n",
              " './output/train/293a0fa72e5b_13.jpg',\n",
              " './output/train/293a0fa72e5b_14.jpg',\n",
              " './output/train/293a0fa72e5b_15.jpg',\n",
              " './output/train/293a0fa72e5b_16.jpg',\n",
              " './output/train/2990f858e939_01.jpg',\n",
              " './output/train/2990f858e939_02.jpg',\n",
              " './output/train/2990f858e939_03.jpg',\n",
              " './output/train/2990f858e939_04.jpg',\n",
              " './output/train/2990f858e939_05.jpg',\n",
              " './output/train/2990f858e939_06.jpg',\n",
              " './output/train/2990f858e939_07.jpg',\n",
              " './output/train/2990f858e939_08.jpg',\n",
              " './output/train/2990f858e939_09.jpg',\n",
              " './output/train/2990f858e939_10.jpg',\n",
              " './output/train/2990f858e939_11.jpg',\n",
              " './output/train/2990f858e939_12.jpg',\n",
              " './output/train/2990f858e939_13.jpg',\n",
              " './output/train/2990f858e939_14.jpg',\n",
              " './output/train/2990f858e939_15.jpg',\n",
              " './output/train/2990f858e939_16.jpg',\n",
              " './output/train/2a4a8964ebf3_01.jpg',\n",
              " './output/train/2a4a8964ebf3_02.jpg',\n",
              " './output/train/2a4a8964ebf3_03.jpg',\n",
              " './output/train/2a4a8964ebf3_04.jpg',\n",
              " './output/train/2a4a8964ebf3_05.jpg',\n",
              " './output/train/2a4a8964ebf3_06.jpg',\n",
              " './output/train/2a4a8964ebf3_07.jpg',\n",
              " './output/train/2a4a8964ebf3_08.jpg',\n",
              " './output/train/2a4a8964ebf3_09.jpg',\n",
              " './output/train/2a4a8964ebf3_10.jpg',\n",
              " './output/train/2a4a8964ebf3_11.jpg',\n",
              " './output/train/2a4a8964ebf3_12.jpg',\n",
              " './output/train/2a4a8964ebf3_13.jpg',\n",
              " './output/train/2a4a8964ebf3_14.jpg',\n",
              " './output/train/2a4a8964ebf3_15.jpg',\n",
              " './output/train/2a4a8964ebf3_16.jpg',\n",
              " './output/train/2af7c265531e_01.jpg',\n",
              " './output/train/2af7c265531e_02.jpg',\n",
              " './output/train/2af7c265531e_03.jpg',\n",
              " './output/train/2af7c265531e_04.jpg',\n",
              " './output/train/2af7c265531e_05.jpg',\n",
              " './output/train/2af7c265531e_06.jpg',\n",
              " './output/train/2af7c265531e_07.jpg',\n",
              " './output/train/2af7c265531e_08.jpg',\n",
              " './output/train/2af7c265531e_09.jpg',\n",
              " './output/train/2af7c265531e_10.jpg',\n",
              " './output/train/2af7c265531e_11.jpg',\n",
              " './output/train/2af7c265531e_12.jpg',\n",
              " './output/train/2af7c265531e_13.jpg',\n",
              " './output/train/2af7c265531e_14.jpg',\n",
              " './output/train/2af7c265531e_15.jpg',\n",
              " './output/train/2af7c265531e_16.jpg',\n",
              " './output/train/2c57132da7a0_01.jpg',\n",
              " './output/train/2c57132da7a0_02.jpg',\n",
              " './output/train/2c57132da7a0_03.jpg',\n",
              " './output/train/2c57132da7a0_04.jpg',\n",
              " './output/train/2c57132da7a0_05.jpg',\n",
              " './output/train/2c57132da7a0_06.jpg',\n",
              " './output/train/2c57132da7a0_07.jpg',\n",
              " './output/train/2c57132da7a0_08.jpg',\n",
              " './output/train/2c57132da7a0_09.jpg',\n",
              " './output/train/2c57132da7a0_10.jpg',\n",
              " './output/train/2c57132da7a0_11.jpg',\n",
              " './output/train/2c57132da7a0_12.jpg',\n",
              " './output/train/2c57132da7a0_13.jpg',\n",
              " './output/train/2c57132da7a0_14.jpg',\n",
              " './output/train/2c57132da7a0_15.jpg',\n",
              " './output/train/2c57132da7a0_16.jpg',\n",
              " './output/train/2cb06c1f5bb1_01.jpg',\n",
              " './output/train/2cb06c1f5bb1_02.jpg',\n",
              " './output/train/2cb06c1f5bb1_03.jpg',\n",
              " './output/train/2cb06c1f5bb1_04.jpg',\n",
              " './output/train/2cb06c1f5bb1_05.jpg',\n",
              " './output/train/2cb06c1f5bb1_06.jpg',\n",
              " './output/train/2cb06c1f5bb1_07.jpg',\n",
              " './output/train/2cb06c1f5bb1_08.jpg',\n",
              " './output/train/2cb06c1f5bb1_09.jpg',\n",
              " './output/train/2cb06c1f5bb1_10.jpg',\n",
              " './output/train/2cb06c1f5bb1_11.jpg',\n",
              " './output/train/2cb06c1f5bb1_12.jpg',\n",
              " './output/train/2cb06c1f5bb1_13.jpg',\n",
              " './output/train/2cb06c1f5bb1_14.jpg',\n",
              " './output/train/2cb06c1f5bb1_15.jpg',\n",
              " './output/train/2cb06c1f5bb1_16.jpg',\n",
              " './output/train/2cb91c2543fa_01.jpg',\n",
              " './output/train/2cb91c2543fa_02.jpg',\n",
              " './output/train/2cb91c2543fa_03.jpg',\n",
              " './output/train/2cb91c2543fa_04.jpg',\n",
              " './output/train/2cb91c2543fa_05.jpg',\n",
              " './output/train/2cb91c2543fa_06.jpg',\n",
              " './output/train/2cb91c2543fa_07.jpg',\n",
              " './output/train/2cb91c2543fa_08.jpg',\n",
              " './output/train/2cb91c2543fa_09.jpg',\n",
              " './output/train/2cb91c2543fa_10.jpg',\n",
              " './output/train/2cb91c2543fa_11.jpg',\n",
              " './output/train/2cb91c2543fa_12.jpg',\n",
              " './output/train/2cb91c2543fa_13.jpg',\n",
              " './output/train/2cb91c2543fa_14.jpg',\n",
              " './output/train/2cb91c2543fa_15.jpg',\n",
              " './output/train/2cb91c2543fa_16.jpg',\n",
              " './output/train/2ea62c1beee7_01.jpg',\n",
              " './output/train/2ea62c1beee7_02.jpg',\n",
              " './output/train/2ea62c1beee7_03.jpg',\n",
              " './output/train/2ea62c1beee7_04.jpg',\n",
              " './output/train/2ea62c1beee7_05.jpg',\n",
              " './output/train/2ea62c1beee7_06.jpg',\n",
              " './output/train/2ea62c1beee7_07.jpg',\n",
              " './output/train/2ea62c1beee7_08.jpg',\n",
              " './output/train/2ea62c1beee7_09.jpg',\n",
              " './output/train/2ea62c1beee7_10.jpg',\n",
              " './output/train/2ea62c1beee7_11.jpg',\n",
              " './output/train/2ea62c1beee7_12.jpg',\n",
              " './output/train/2ea62c1beee7_13.jpg',\n",
              " './output/train/2ea62c1beee7_14.jpg',\n",
              " './output/train/2ea62c1beee7_15.jpg',\n",
              " './output/train/2ea62c1beee7_16.jpg',\n",
              " './output/train/2f39abb12388_01.jpg',\n",
              " './output/train/2f39abb12388_02.jpg',\n",
              " './output/train/2f39abb12388_03.jpg',\n",
              " './output/train/2f39abb12388_04.jpg',\n",
              " './output/train/2f39abb12388_05.jpg',\n",
              " './output/train/2f39abb12388_06.jpg',\n",
              " './output/train/2f39abb12388_07.jpg',\n",
              " './output/train/2f39abb12388_08.jpg',\n",
              " './output/train/2f39abb12388_09.jpg',\n",
              " './output/train/2f39abb12388_10.jpg',\n",
              " './output/train/2f39abb12388_11.jpg',\n",
              " './output/train/2f39abb12388_12.jpg',\n",
              " './output/train/2f39abb12388_13.jpg',\n",
              " './output/train/2f39abb12388_14.jpg',\n",
              " './output/train/2f39abb12388_15.jpg',\n",
              " './output/train/2f39abb12388_16.jpg',\n",
              " './output/train/2faf504842df_01.jpg',\n",
              " './output/train/2faf504842df_02.jpg',\n",
              " './output/train/2faf504842df_03.jpg',\n",
              " './output/train/2faf504842df_04.jpg',\n",
              " './output/train/2faf504842df_05.jpg',\n",
              " './output/train/2faf504842df_06.jpg',\n",
              " './output/train/2faf504842df_07.jpg',\n",
              " './output/train/2faf504842df_08.jpg',\n",
              " './output/train/2faf504842df_09.jpg',\n",
              " './output/train/2faf504842df_10.jpg',\n",
              " './output/train/2faf504842df_11.jpg',\n",
              " './output/train/2faf504842df_12.jpg',\n",
              " './output/train/2faf504842df_13.jpg',\n",
              " './output/train/2faf504842df_14.jpg',\n",
              " './output/train/2faf504842df_15.jpg',\n",
              " './output/train/2faf504842df_16.jpg',\n",
              " './output/train/304437bad7ff_01.jpg',\n",
              " './output/train/304437bad7ff_02.jpg',\n",
              " './output/train/304437bad7ff_03.jpg',\n",
              " './output/train/304437bad7ff_04.jpg',\n",
              " './output/train/304437bad7ff_05.jpg',\n",
              " './output/train/304437bad7ff_06.jpg',\n",
              " './output/train/304437bad7ff_07.jpg',\n",
              " './output/train/304437bad7ff_08.jpg',\n",
              " './output/train/304437bad7ff_09.jpg',\n",
              " './output/train/304437bad7ff_10.jpg',\n",
              " './output/train/304437bad7ff_11.jpg',\n",
              " './output/train/304437bad7ff_12.jpg',\n",
              " './output/train/304437bad7ff_13.jpg',\n",
              " './output/train/304437bad7ff_14.jpg',\n",
              " './output/train/304437bad7ff_15.jpg',\n",
              " './output/train/304437bad7ff_16.jpg',\n",
              " './output/train/3071362591f7_01.jpg',\n",
              " './output/train/3071362591f7_02.jpg',\n",
              " './output/train/3071362591f7_03.jpg',\n",
              " './output/train/3071362591f7_04.jpg',\n",
              " './output/train/3071362591f7_05.jpg',\n",
              " './output/train/3071362591f7_06.jpg',\n",
              " './output/train/3071362591f7_07.jpg',\n",
              " './output/train/3071362591f7_08.jpg',\n",
              " './output/train/3071362591f7_09.jpg',\n",
              " './output/train/3071362591f7_10.jpg',\n",
              " './output/train/3071362591f7_11.jpg',\n",
              " './output/train/3071362591f7_12.jpg',\n",
              " './output/train/3071362591f7_13.jpg',\n",
              " './output/train/3071362591f7_14.jpg',\n",
              " './output/train/3071362591f7_15.jpg',\n",
              " './output/train/3071362591f7_16.jpg',\n",
              " './output/train/31186febd775_01.jpg',\n",
              " './output/train/31186febd775_02.jpg',\n",
              " './output/train/31186febd775_03.jpg',\n",
              " './output/train/31186febd775_04.jpg',\n",
              " './output/train/31186febd775_05.jpg',\n",
              " './output/train/31186febd775_06.jpg',\n",
              " './output/train/31186febd775_07.jpg',\n",
              " './output/train/31186febd775_08.jpg']"
            ]
          },
          "metadata": {},
          "execution_count": 124
        }
      ]
    },
    {
      "cell_type": "code",
      "source": [
        "train_imgs = np.array([cv2.resize(imageio.imread(path), (IMG_ROWS, IMG_COLS))\n",
        "                        for path in train_img_paths])\n",
        "\n",
        "train_imgs.shape"
      ],
      "metadata": {
        "colab": {
          "base_uri": "https://localhost:8080/"
        },
        "id": "38LTj-kAfcL4",
        "outputId": "792517e0-5580-44ac-be8c-0e8bb982adcc"
      },
      "execution_count": 125,
      "outputs": [
        {
          "output_type": "execute_result",
          "data": {
            "text/plain": [
              "(1000, 128, 128, 3)"
            ]
          },
          "metadata": {},
          "execution_count": 125
        }
      ]
    },
    {
      "cell_type": "code",
      "source": [
        "train_masks = np.array([cv2.resize(imageio.imread(path), (IMG_ROWS, IMG_COLS))\n",
        "                        for path in train_mask_paths])\n",
        "train_masks.shape"
      ],
      "metadata": {
        "colab": {
          "base_uri": "https://localhost:8080/"
        },
        "id": "C0wiru1Qfd7e",
        "outputId": "d5604fe8-4fb4-4ab0-a9cf-beecd334a958"
      },
      "execution_count": 126,
      "outputs": [
        {
          "output_type": "execute_result",
          "data": {
            "text/plain": [
              "(1000, 128, 128)"
            ]
          },
          "metadata": {},
          "execution_count": 126
        }
      ]
    },
    {
      "cell_type": "code",
      "source": [
        "test_imgs = np.array([cv2.resize(imageio.imread(path), (IMG_ROWS, IMG_COLS))\n",
        "                        for path in test_img_paths])\n",
        "\n",
        "test_imgs.shape"
      ],
      "metadata": {
        "colab": {
          "base_uri": "https://localhost:8080/"
        },
        "id": "oBiCkdIZqUIh",
        "outputId": "e4c1b999-f1f9-40d7-c6ba-0345fb0c340a"
      },
      "execution_count": 127,
      "outputs": [
        {
          "output_type": "execute_result",
          "data": {
            "text/plain": [
              "(1000, 128, 128, 3)"
            ]
          },
          "metadata": {},
          "execution_count": 127
        }
      ]
    },
    {
      "cell_type": "code",
      "source": [
        "train_masks = train_masks.astype(np.float32)"
      ],
      "metadata": {
        "id": "EOQFYfJwfgPF"
      },
      "execution_count": 128,
      "outputs": []
    },
    {
      "cell_type": "code",
      "source": [
        "train_masks[train_masks<=127] = 0.\n",
        "train_masks[train_masks>127] = 1.\n",
        "train_masks = np.reshape(train_masks, (*train_masks.shape, 1))"
      ],
      "metadata": {
        "id": "Hi1WO6Zafh5u"
      },
      "execution_count": 129,
      "outputs": []
    },
    {
      "cell_type": "code",
      "source": [
        "%matplotlib inline\n",
        "from matplotlib import pyplot as plt\n",
        "fig = plt.figure(0, figsize=(20, 20))\n",
        "fig.add_subplot(1, 2, 1)\n",
        "plt.imshow(train_imgs[0])\n",
        "fig.add_subplot(1, 2, 2)\n",
        "plt.imshow(np.squeeze(train_masks[0]))\n"
      ],
      "metadata": {
        "colab": {
          "base_uri": "https://localhost:8080/",
          "height": 549
        },
        "id": "ge022I6afjMv",
        "outputId": "4fa32054-e8aa-451a-90c7-c1bedde1699c"
      },
      "execution_count": 130,
      "outputs": [
        {
          "output_type": "execute_result",
          "data": {
            "text/plain": [
              "<matplotlib.image.AxesImage at 0x7fa84429ec90>"
            ]
          },
          "metadata": {},
          "execution_count": 130
        },
        {
          "output_type": "display_data",
          "data": {
            "text/plain": [
              "<Figure size 1440x1440 with 2 Axes>"
            ],
            "image/png": "[encoded data removed]"
          },
          "metadata": {
            "needs_background": "light"
          }
        }
      ]
    },
    {
      "cell_type": "markdown",
      "source": [
        "# 定義模型"
      ],
      "metadata": {
        "id": "Lrg-Q9ZFfrXc"
      }
    },
    {
      "cell_type": "code",
      "source": [
        "OUTPUT_CHANNELS = 3"
      ],
      "metadata": {
        "id": "dowliRBpfsoy"
      },
      "execution_count": 131,
      "outputs": []
    },
    {
      "cell_type": "code",
      "source": [
        "import tensorflow as tf \n",
        "base_model = tf.keras.applications.MobileNetV2(input_shape=[128, 128, 3], include_top=False)\n",
        "\n",
        "# 使用这些层的激活设置\n",
        "layer_names = [\n",
        "    'block_1_expand_relu',   # 64x64\n",
        "    'block_3_expand_relu',   # 32x32\n",
        "    'block_6_expand_relu',   # 16x16\n",
        "    'block_13_expand_relu',  # 8x8\n",
        "    'block_16_project',      # 4x4\n",
        "]\n",
        "layers = [base_model.get_layer(name).output for name in layer_names]\n",
        "\n",
        "# 创建特征提取模型\n",
        "down_stack = tf.keras.Model(inputs=base_model.input, outputs=layers)\n",
        "\n",
        "down_stack.trainable = False"
      ],
      "metadata": {
        "id": "zRSWzH-GfuE0"
      },
      "execution_count": 132,
      "outputs": []
    },
    {
      "cell_type": "code",
      "source": [
        "from tensorflow_examples.models.pix2pix import pix2pix\n",
        "\n",
        "up_stack = [\n",
        "    pix2pix.upsample(512, 3),  # 4x4 -> 8x8\n",
        "    pix2pix.upsample(256, 3),  # 8x8 -> 16x16\n",
        "    pix2pix.upsample(128, 3),  # 16x16 -> 32x32\n",
        "    pix2pix.upsample(64, 3),   # 32x32 -> 64x64\n",
        "]"
      ],
      "metadata": {
        "id": "V4jd6muZfvXW"
      },
      "execution_count": 133,
      "outputs": []
    },
    {
      "cell_type": "code",
      "source": [
        "def unet_model(output_channels):\n",
        "  inputs = tf.keras.layers.Input(shape=[IMG_COLS, IMG_ROWS, 3])\n",
        "  x = inputs\n",
        "\n",
        "  # 在模型中降频取样\n",
        "  skips = down_stack(x)\n",
        "  x = skips[-1]\n",
        "  skips = reversed(skips[:-1])\n",
        "\n",
        "  # 升频取样然后建立跳跃连接\n",
        "  for up, skip in zip(up_stack, skips):\n",
        "    x = up(x)\n",
        "    concat = tf.keras.layers.Concatenate()\n",
        "    x = concat([x, skip])\n",
        "\n",
        "  # 这是模型的最后一层\n",
        "  last = tf.keras.layers.Conv2DTranspose(\n",
        "      output_channels, 3, strides=2,\n",
        "      padding='same')  #64x64 -> 128x128\n",
        "\n",
        "  x = last(x)\n",
        "\n",
        "  return tf.keras.Model(inputs=inputs, outputs=x)"
      ],
      "metadata": {
        "id": "E12tQSJmfw_E"
      },
      "execution_count": 134,
      "outputs": []
    },
    {
      "cell_type": "code",
      "source": [
        "model = unet_model(OUTPUT_CHANNELS)\n",
        "model.compile(optimizer='adam',\n",
        "              loss=tf.keras.losses.SparseCategoricalCrossentropy(from_logits=True),\n",
        "              metrics=['accuracy'])"
      ],
      "metadata": {
        "id": "jPD5lHa2fyNu"
      },
      "execution_count": 135,
      "outputs": []
    },
    {
      "cell_type": "code",
      "source": [
        "tf.keras.utils.plot_model(model, show_shapes=True)"
      ],
      "metadata": {
        "id": "7IRPKguoG-Y5",
        "colab": {
          "base_uri": "https://localhost:8080/",
          "height": 1000
        },
        "outputId": "f8e3862f-3b50-45ce-8943-6d4cfce6d1e5"
      },
      "execution_count": 136,
      "outputs": [
        {
          "output_type": "execute_result",
          "data": {
            "image/png": "[encoded data removed]",
            "text/plain": [
              "<IPython.core.display.Image object>"
            ]
          },
          "metadata": {},
          "execution_count": 136
        }
      ]
    },
    {
      "cell_type": "code",
      "execution_count": 137,
      "metadata": {
        "id": "8-6gKQiwBcZt"
      },
      "outputs": [],
      "source": [
        "# def create_mask(pred_mask):\n",
        "#   pred_mask = tf.math.argmax(pred_mask, axis=-1)\n",
        "#   pred_mask = pred_mask[..., tf.newaxis]\n",
        "#   return pred_mask[0]\n"
      ]
    },
    {
      "cell_type": "code",
      "execution_count": 138,
      "metadata": {
        "id": "5XQaUm2OBcZt"
      },
      "outputs": [],
      "source": [
        "# def show_predictions(dataset=None, num=1):\n",
        "#   # 如果數據集有關鍵點的mask則顯示，否則就predict\n",
        "#   # if dataset:\n",
        "#   #   for image, mask in dataset.take(num):\n",
        "#   #     pred_mask = model.predict(image)\n",
        "#   #     display([image[0], mask[0], create_mask(pred_mask)])\n",
        "#   # else:\n",
        "#   # display([dataset[0],create_mask(model.predict(dataset[tf.newaxis, ...]))])\n",
        "#   display([dataset[num],create_mask(model.predict(dataset[num]))])"
      ]
    },
    {
      "cell_type": "code",
      "execution_count": 139,
      "metadata": {
        "id": "fE3IfuAMBcZu",
        "colab": {
          "base_uri": "https://localhost:8080/"
        },
        "outputId": "9f7cfba9-397f-4cc9-f38f-b5ac2a6eb4b5"
      },
      "outputs": [
        {
          "output_type": "stream",
          "name": "stdout",
          "text": [
            "Epoch 1/10\n",
            "16/16 [==============================] - 7s 265ms/step - loss: 0.5950 - accuracy: 0.7486 - val_loss: 1.1556 - val_accuracy: 0.6679\n",
            "Epoch 2/10\n",
            "16/16 [==============================] - 3s 184ms/step - loss: 0.1645 - accuracy: 0.9427 - val_loss: 1.2499 - val_accuracy: 0.7173\n",
            "Epoch 3/10\n",
            "16/16 [==============================] - 3s 185ms/step - loss: 0.0936 - accuracy: 0.9681 - val_loss: 0.8695 - val_accuracy: 0.7919\n",
            "Epoch 4/10\n",
            "16/16 [==============================] - 3s 193ms/step - loss: 0.0726 - accuracy: 0.9742 - val_loss: 0.3258 - val_accuracy: 0.9026\n",
            "Epoch 5/10\n",
            "16/16 [==============================] - 3s 190ms/step - loss: 0.0615 - accuracy: 0.9776 - val_loss: 0.1464 - val_accuracy: 0.9499\n",
            "Epoch 6/10\n",
            "16/16 [==============================] - 3s 187ms/step - loss: 0.0548 - accuracy: 0.9798 - val_loss: 0.0777 - val_accuracy: 0.9715\n",
            "Epoch 7/10\n",
            "16/16 [==============================] - 3s 204ms/step - loss: 0.0495 - accuracy: 0.9815 - val_loss: 0.0531 - val_accuracy: 0.9801\n",
            "Epoch 8/10\n",
            "16/16 [==============================] - 3s 189ms/step - loss: 0.0467 - accuracy: 0.9824 - val_loss: 0.0458 - val_accuracy: 0.9830\n",
            "Epoch 9/10\n",
            "16/16 [==============================] - 3s 205ms/step - loss: 0.0432 - accuracy: 0.9837 - val_loss: 0.0507 - val_accuracy: 0.9807\n",
            "Epoch 10/10\n",
            "16/16 [==============================] - 3s 191ms/step - loss: 0.0405 - accuracy: 0.9847 - val_loss: 0.0717 - val_accuracy: 0.9712\n"
          ]
        }
      ],
      "source": [
        "EPOCHS = 10\n",
        "\n",
        "model_history = model.fit(train_imgs,train_masks,\n",
        "                          epochs=EPOCHS,\n",
        "                          batch_size = 64,\n",
        "                          validation_data=(train_imgs,train_masks))\n"
      ]
    },
    {
      "cell_type": "code",
      "execution_count": 140,
      "metadata": {
        "id": "PGSgNYTvBcZu",
        "colab": {
          "base_uri": "https://localhost:8080/",
          "height": 295
        },
        "outputId": "b7ab45d4-fcc0-4cc6-d46b-bf46f72e65ec"
      },
      "outputs": [
        {
          "output_type": "display_data",
          "data": {
            "text/plain": [
              "<Figure size 432x288 with 1 Axes>"
            ],
            "image/png": "[encoded data removed]"
          },
          "metadata": {
            "needs_background": "light"
          }
        }
      ],
      "source": [
        "loss = model_history.history['loss']\n",
        "val_loss = model_history.history['val_loss']\n",
        "\n",
        "plt.figure()\n",
        "plt.plot(model_history.epoch, loss, 'r', label='Training loss')\n",
        "plt.plot(model_history.epoch, val_loss, 'bo', label='Validation loss')\n",
        "plt.title('Training and Validation Loss')\n",
        "plt.xlabel('Epoch')\n",
        "plt.ylabel('Loss Value')\n",
        "plt.ylim([0, 1])\n",
        "plt.legend()\n",
        "plt.show()"
      ]
    },
    {
      "cell_type": "code",
      "source": [
        "model.summary()"
      ],
      "metadata": {
        "colab": {
          "base_uri": "https://localhost:8080/"
        },
        "id": "YBqq4vQVssaT",
        "outputId": "f2187587-c655-45bb-89cf-4e4a801d9701"
      },
      "execution_count": 141,
      "outputs": [
        {
          "output_type": "stream",
          "name": "stdout",
          "text": [
            "Model: \"model_7\"\n",
            "__________________________________________________________________________________________________\n",
            " Layer (type)                   Output Shape         Param #     Connected to                     \n",
            "==================================================================================================\n",
            " input_8 (InputLayer)           [(None, 128, 128, 3  0           []                               \n",
            "                                )]                                                                \n",
            "                                                                                                  \n",
            " model_6 (Functional)           [(None, 64, 64, 96)  1841984     ['input_8[0][0]']                \n",
            "                                , (None, 32, 32, 14                                               \n",
            "                                4),                                                               \n",
            "                                 (None, 16, 16, 192                                               \n",
            "                                ),                                                                \n",
            "                                 (None, 8, 8, 576),                                               \n",
            "                                 (None, 4, 4, 320)]                                               \n",
            "                                                                                                  \n",
            " sequential_8 (Sequential)      (None, 8, 8, 512)    1476608     ['model_6[0][4]']                \n",
            "                                                                                                  \n",
            " concatenate_8 (Concatenate)    (None, 8, 8, 1088)   0           ['sequential_8[0][0]',           \n",
            "                                                                  'model_6[0][3]']                \n",
            "                                                                                                  \n",
            " sequential_9 (Sequential)      (None, 16, 16, 256)  2507776     ['concatenate_8[0][0]']          \n",
            "                                                                                                  \n",
            " concatenate_9 (Concatenate)    (None, 16, 16, 448)  0           ['sequential_9[0][0]',           \n",
            "                                                                  'model_6[0][2]']                \n",
            "                                                                                                  \n",
            " sequential_10 (Sequential)     (None, 32, 32, 128)  516608      ['concatenate_9[0][0]']          \n",
            "                                                                                                  \n",
            " concatenate_10 (Concatenate)   (None, 32, 32, 272)  0           ['sequential_10[0][0]',          \n",
            "                                                                  'model_6[0][1]']                \n",
            "                                                                                                  \n",
            " sequential_11 (Sequential)     (None, 64, 64, 64)   156928      ['concatenate_10[0][0]']         \n",
            "                                                                                                  \n",
            " concatenate_11 (Concatenate)   (None, 64, 64, 160)  0           ['sequential_11[0][0]',          \n",
            "                                                                  'model_6[0][0]']                \n",
            "                                                                                                  \n",
            " conv2d_transpose_15 (Conv2DTra  (None, 128, 128, 3)  4323       ['concatenate_11[0][0]']         \n",
            " nspose)                                                                                          \n",
            "                                                                                                  \n",
            "==================================================================================================\n",
            "Total params: 6,504,227\n",
            "Trainable params: 4,660,323\n",
            "Non-trainable params: 1,843,904\n",
            "__________________________________________________________________________________________________\n"
          ]
        }
      ]
    },
    {
      "cell_type": "code",
      "source": [
        "test_imgs[0].shape"
      ],
      "metadata": {
        "colab": {
          "base_uri": "https://localhost:8080/"
        },
        "id": "qb9eaqBcsgnX",
        "outputId": "fc5223a4-c9fd-468b-a7cc-ba6e445c658a"
      },
      "execution_count": 142,
      "outputs": [
        {
          "output_type": "execute_result",
          "data": {
            "text/plain": [
              "(128, 128, 3)"
            ]
          },
          "metadata": {},
          "execution_count": 142
        }
      ]
    },
    {
      "cell_type": "code",
      "source": [
        "# show_predictions(test_imgs,3)\n",
        "test_imgs[0] = test_imgs[0][tf.newaxis, ...]\n"
      ],
      "metadata": {
        "id": "17oZrqIDr5L2"
      },
      "execution_count": 143,
      "outputs": []
    },
    {
      "cell_type": "code",
      "source": [
        "pred = model.predict(test_imgs[0][tf.newaxis, ...])\n",
        "pred"
      ],
      "metadata": {
        "colab": {
          "base_uri": "https://localhost:8080/"
        },
        "id": "-g6853motq2N",
        "outputId": "3cbcdc3b-cf9b-4e1a-d48e-564530813b9c"
      },
      "execution_count": 144,
      "outputs": [
        {
          "output_type": "execute_result",
          "data": {
            "text/plain": [
              "array([[[[ 2.4624043e+00, -1.0027845e+00, -1.9517977e+00],\n",
              "         [ 4.1627502e+00, -1.5748618e+00, -3.3222282e+00],\n",
              "         [ 3.5149803e+00, -1.3856913e+00, -4.2382770e+00],\n",
              "         ...,\n",
              "         [ 4.6642981e+00, -1.4948895e+00, -2.5163827e+00],\n",
              "         [ 3.4340522e+00, -2.1404366e+00, -4.5054679e+00],\n",
              "         [ 3.8036978e+00, -6.9540673e-01, -2.6150162e+00]],\n",
              "\n",
              "        [[ 3.9164121e+00,  3.4201527e-01, -2.2349606e+00],\n",
              "         [ 4.0931406e+00, -1.3237399e+00, -4.3898273e+00],\n",
              "         [ 7.8198109e+00, -4.6254275e-03, -4.4131994e+00],\n",
              "         ...,\n",
              "         [ 4.0709786e+00, -1.8079076e+00, -4.1527290e+00],\n",
              "         [ 7.8965244e+00, -5.0083888e-01, -3.8431919e+00],\n",
              "         [ 4.0119720e+00, -1.3751184e+00, -4.0573440e+00]],\n",
              "\n",
              "        [[ 2.6859562e+00, -2.1303709e+00, -5.5452442e+00],\n",
              "         [ 7.4085183e+00, -8.4118855e-01, -6.0857811e+00],\n",
              "         [ 3.6196649e+00, -3.4306393e+00, -1.0773924e+01],\n",
              "         ...,\n",
              "         [ 7.0680819e+00, -1.0005920e+00, -4.0742183e+00],\n",
              "         [ 4.4154987e+00, -3.0196483e+00, -9.7120600e+00],\n",
              "         [ 7.2715964e+00,  7.7494138e-01, -4.0003214e+00]],\n",
              "\n",
              "        ...,\n",
              "\n",
              "        [[ 3.7362459e+00, -8.2922393e-01, -2.7324879e+00],\n",
              "         [ 4.5033154e+00, -1.7066993e+00, -3.9001834e+00],\n",
              "         [ 5.9099913e+00, -1.8316904e+00, -4.0705719e+00],\n",
              "         ...,\n",
              "         [ 3.6946461e+00, -1.6695364e+00, -2.3719070e+00],\n",
              "         [ 5.7643328e+00, -1.7957534e+00, -2.0587184e+00],\n",
              "         [ 4.0398035e+00, -1.4502434e+00, -3.3894322e+00]],\n",
              "\n",
              "        [[ 3.4777935e+00, -1.9867090e+00, -5.4682951e+00],\n",
              "         [ 6.4036775e+00, -2.1070315e-01, -4.5933418e+00],\n",
              "         [ 4.5488167e+00, -2.6068313e+00, -9.0233145e+00],\n",
              "         ...,\n",
              "         [ 4.9842758e+00, -6.7208374e-01, -2.6230450e+00],\n",
              "         [ 4.3625441e+00, -1.2914137e+00, -6.7713423e+00],\n",
              "         [ 5.3943925e+00,  6.2240744e-01, -2.5262852e+00]],\n",
              "\n",
              "        [[ 2.9328444e+00, -4.8773789e-01, -3.1887872e+00],\n",
              "         [ 5.2298079e+00,  3.8784463e-04, -4.4169631e+00],\n",
              "         [ 4.9631681e+00, -1.2862378e+00, -5.4886723e+00],\n",
              "         ...,\n",
              "         [ 4.1691780e+00, -3.5374126e-01, -3.1247022e+00],\n",
              "         [ 5.3646774e+00, -1.6461085e-01, -3.9898498e+00],\n",
              "         [ 4.3117042e+00,  2.1840472e-02, -3.3760927e+00]]]],\n",
              "      dtype=float32)"
            ]
          },
          "metadata": {},
          "execution_count": 144
        }
      ]
    },
    {
      "cell_type": "code",
      "source": [],
      "metadata": {
        "id": "-AsUMgYMvYkf"
      },
      "execution_count": 144,
      "outputs": []
    }
  ],
  "metadata": {
    "kernelspec": {
      "display_name": "Python 3.9.2 64-bit",
      "language": "python",
      "name": "python3"
    },
    "language_info": {
      "codemirror_mode": {
        "name": "ipython",
        "version": 3
      },
      "file_extension": ".py",
      "mimetype": "text/x-python",
      "name": "python",
      "nbconvert_exporter": "python",
      "pygments_lexer": "ipython3",
      "version": "3.9.2"
    },
    "orig_nbformat": 4,
    "vscode": {
      "interpreter": {
        "hash": "397704579725e15f5c7cb49fe5f0341eb7531c82d19f2c29d197e8b64ab5776b"
      }
    },
    "colab": {
      "provenance": [],
      "collapsed_sections": []
    },
    "accelerator": "GPU",
    "gpuClass": "standard"
  },
  "nbformat": 4,
  "nbformat_minor": 0
}