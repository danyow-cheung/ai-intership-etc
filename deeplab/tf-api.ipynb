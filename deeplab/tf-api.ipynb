{
 "cells": [
  {
   "cell_type": "markdown",
   "metadata": {},
   "source": [
    "# 集成图像分割\n",
    "使用tensorflow api实现"
   ]
  },
  {
   "cell_type": "markdown",
   "metadata": {},
   "source": [
    "1. 安装pip安装包a"
   ]
  },
  {
   "cell_type": "code",
   "execution_count": 7,
   "metadata": {},
   "outputs": [
    {
     "name": "stdout",
     "output_type": "stream",
     "text": [
      "\u001b[33mDEPRECATION: Configuring installation scheme with distutils config files is deprecated and will no longer work in the near future. If you are using a Homebrew or Linuxbrew Python, please see discussion at https://github.com/Homebrew/homebrew-core/issues/76621\u001b[0m\u001b[33m\n",
      "\u001b[0mLooking in indexes: https://pypi.tuna.tsinghua.edu.cn/simple\n",
      "Collecting tflite_support_nightly\n",
      "  Downloading https://pypi.tuna.tsinghua.edu.cn/packages/72/85/a808627412d5fac3e7063662878f322274d43c44cdc02c7b9fd15ae7f882/tflite_support_nightly-0.4.0.dev20220907-cp39-cp39-macosx_10_11_x86_64.whl (52.7 MB)\n",
      "\u001b[2K     \u001b[90m━━━━━━━━━━━━━━━━━━━━━━━━━━━━━━━━━━━━━━━\u001b[0m \u001b[32m52.7/52.7 MB\u001b[0m \u001b[31m153.6 kB/s\u001b[0m eta \u001b[36m0:00:00\u001b[0m00:01\u001b[0m00:07\u001b[0m\n",
      "\u001b[?25hRequirement already satisfied: absl-py>=0.7.0 in /usr/local/lib/python3.9/site-packages (from tflite_support_nightly) (1.2.0)\n",
      "Requirement already satisfied: flatbuffers>=2.0 in /usr/local/lib/python3.9/site-packages (from tflite_support_nightly) (2.0.7)\n",
      "Requirement already satisfied: protobuf<4,>=3.18.0 in /usr/local/lib/python3.9/site-packages (from tflite_support_nightly) (3.20.1)\n",
      "Requirement already satisfied: sounddevice>=0.4.4 in /usr/local/lib/python3.9/site-packages (from tflite_support_nightly) (0.4.5)\n",
      "Requirement already satisfied: pybind11>=2.6.0 in /usr/local/lib/python3.9/site-packages (from tflite_support_nightly) (2.10.0)\n",
      "Requirement already satisfied: numpy>=1.20.0 in /usr/local/lib/python3.9/site-packages (from tflite_support_nightly) (1.23.2)\n",
      "Requirement already satisfied: CFFI>=1.0 in /usr/local/lib/python3.9/site-packages (from sounddevice>=0.4.4->tflite_support_nightly) (1.15.1)\n",
      "Requirement already satisfied: pycparser in /usr/local/lib/python3.9/site-packages (from CFFI>=1.0->sounddevice>=0.4.4->tflite_support_nightly) (2.21)\n",
      "\u001b[33mWARNING: Error parsing requirements for tflite-support: [Errno 2] No such file or directory: '/usr/local/lib/python3.9/site-packages/tflite_support-0.4.2.dist-info/METADATA'\u001b[0m\u001b[33m\n",
      "\u001b[0mInstalling collected packages: tflite_support_nightly\n",
      "\u001b[33m  DEPRECATION: Configuring installation scheme with distutils config files is deprecated and will no longer work in the near future. If you are using a Homebrew or Linuxbrew Python, please see discussion at https://github.com/Homebrew/homebrew-core/issues/76621\u001b[0m\u001b[33m\n",
      "\u001b[0m\u001b[33mDEPRECATION: Configuring installation scheme with distutils config files is deprecated and will no longer work in the near future. If you are using a Homebrew or Linuxbrew Python, please see discussion at https://github.com/Homebrew/homebrew-core/issues/76621\u001b[0m\u001b[33m\n",
      "\u001b[0mSuccessfully installed tflite_support_nightly-0.4.0.dev20220907\n"
     ]
    }
   ],
   "source": [
    "! pip install tflite_support\n",
    "! pip3 uninstall tflite_support-0.4.2-cp39-cp39-macosx_10_11_x86_64.whl"
   ]
  },
  {
   "cell_type": "markdown",
   "metadata": {},
   "source": [
    "2. 使用模型"
   ]
  },
  {
   "cell_type": "code",
   "execution_count": 4,
   "metadata": {},
   "outputs": [
    {
     "ename": "ModuleNotFoundError",
     "evalue": "No module named 'tflite_support'",
     "output_type": "error",
     "traceback": [
      "\u001b[0;31m---------------------------------------------------------------------------\u001b[0m",
      "\u001b[0;31mModuleNotFoundError\u001b[0m                       Traceback (most recent call last)",
      "\u001b[1;32m/Users/danyow/Desktop/tensorflow-/deeplab/tf-api.ipynb Cell 5\u001b[0m in \u001b[0;36m<cell line: 2>\u001b[0;34m()\u001b[0m\n\u001b[1;32m      <a href='vscode-notebook-cell:/Users/danyow/Desktop/tensorflow-/deeplab/tf-api.ipynb#W4sZmlsZQ%3D%3D?line=0'>1</a>\u001b[0m \u001b[39m# Imports\u001b[39;00m\n\u001b[0;32m----> <a href='vscode-notebook-cell:/Users/danyow/Desktop/tensorflow-/deeplab/tf-api.ipynb#W4sZmlsZQ%3D%3D?line=1'>2</a>\u001b[0m \u001b[39mfrom\u001b[39;00m \u001b[39mtflite_support\u001b[39;00m\u001b[39m.\u001b[39;00m\u001b[39mtask\u001b[39;00m \u001b[39mimport\u001b[39;00m vision\n\u001b[1;32m      <a href='vscode-notebook-cell:/Users/danyow/Desktop/tensorflow-/deeplab/tf-api.ipynb#W4sZmlsZQ%3D%3D?line=2'>3</a>\u001b[0m \u001b[39mfrom\u001b[39;00m \u001b[39mtflite_support\u001b[39;00m\u001b[39m.\u001b[39;00m\u001b[39mtask\u001b[39;00m \u001b[39mimport\u001b[39;00m core\n\u001b[1;32m      <a href='vscode-notebook-cell:/Users/danyow/Desktop/tensorflow-/deeplab/tf-api.ipynb#W4sZmlsZQ%3D%3D?line=3'>4</a>\u001b[0m \u001b[39mfrom\u001b[39;00m \u001b[39mtflite_support\u001b[39;00m\u001b[39m.\u001b[39;00m\u001b[39mtask\u001b[39;00m \u001b[39mimport\u001b[39;00m processor\n",
      "\u001b[0;31mModuleNotFoundError\u001b[0m: No module named 'tflite_support'"
     ]
    }
   ],
   "source": [
    "# Imports\n",
    "from tflite_support.task import vision\n",
    "from tflite_support.task import core\n",
    "from tflite_support.task import processor"
   ]
  },
  {
   "cell_type": "code",
   "execution_count": null,
   "metadata": {},
   "outputs": [],
   "source": [
    "# 初始化\n",
    "base_options = core.BaseOptions(file_name =\"model/deeplabv3tflite\" )\n",
    "segmentation_options = processor.SegmentationOptions(\n",
    "    output_type=processor.SegmentationOptions.OutputType.CATEGORY_MASK\n",
    "    \n",
    ")\n",
    "options = vision.ImageSegmenterOptions(base_options,segmentation_options)\n",
    "segmenter = vision.ImageSegmenter.create_from_options(options)\n",
    "\n",
    "\n",
    "#或者，您可以按以下方式创建图像分割器：\n",
    "#segmenter=vision.ImageSegmentor.create_from_file（model_path）\n",
    "\n",
    "\n",
    "# 跑\n",
    "image_file = vision.TensorImage.create_from_file(image_path = \"./Downloads/pic/Fav7lrSUcAYYOxK.jpeg\")\n",
    "segmentation_result = segmenter.segment(image_file)"
   ]
  }
 ],
 "metadata": {
  "kernelspec": {
   "display_name": "Python 3.9.2 64-bit",
   "language": "python",
   "name": "python3"
  },
  "language_info": {
   "codemirror_mode": {
    "name": "ipython",
    "version": 3
   },
   "file_extension": ".py",
   "mimetype": "text/x-python",
   "name": "python",
   "nbconvert_exporter": "python",
   "pygments_lexer": "ipython3",
   "version": "3.9.2"
  },
  "orig_nbformat": 4,
  "vscode": {
   "interpreter": {
    "hash": "397704579725e15f5c7cb49fe5f0341eb7531c82d19f2c29d197e8b64ab5776b"
   }
  }
 },
 "nbformat": 4,
 "nbformat_minor": 2
}
