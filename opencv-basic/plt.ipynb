{
 "cells": [
  {
   "cell_type": "code",
   "execution_count": 1,
   "metadata": {},
   "outputs": [
    {
     "ename": "",
     "evalue": "",
     "output_type": "error",
     "traceback": [
      "The Kernel crashed while executing code in the the current cell or a previous cell. Please review the code in the cell(s) to identify a possible cause of the failure. Click <a href='https://aka.ms/vscodeJupyterKernelCrash'>here</a> for more info. View Jupyter <a href='command:jupyter.viewOutput'>log</a> for further details."
     ]
    }
   ],
   "source": [
    "import cv2\n",
    "import numpy as np\n",
    "\n",
    "img = np.zeros((512,512,3),np.uint8)\n",
    "'''\n",
    "画线\n",
    "cv2.line(img,dot1,dot2,color,thickness)\n",
    "dot1 第一个点的坐标\n",
    "dot2 第二个点的坐标\n",
    "'''\n",
    "cv2.line(img,(0,0),(512,512),(255,0,0),5)\n",
    "\n",
    "'''\n",
    "画矩形\n",
    "cv2.rectangle(img,dot1,dot2,color,thickness):\n",
    "dot1是左上角点的坐标(xmin,ymin)，dot2是右下角点的坐标(xmax,ymax)。\n",
    "color : rgb\n",
    "'''\n",
    "cv2.rectangle(img,(384,0),(510,128),(0,255,0),3)\n",
    "\n",
    "'''\n",
    "cv2.circle(img,center,radius,color,thickness):\n",
    "center是圆心的坐标，radius是半径，thickness=-1代表圆是实心的。\n",
    "'''\n",
    "cv2.circle(img,(447,63),63,(0,0,255),-1)\n",
    "\n",
    "\n",
    "'''\n",
    "画椭圆\n",
    "cv2.ellipse(img,center,axes,angle,startAngle,endAngle,color,thickness):\n",
    "center是中心坐标，axes是(长轴长度，短轴长度)，angle是椭圆在逆时针的旋转角度，startAngle是主轴顺时针方向测量的椭圆弧的起点，endAngle是主轴顺时针方向测量的椭圆弧的终点\n",
    "\n",
    "'''\n",
    "cv2.ellipse(img,(256,256),(100,50),0,0,360,255,-1)\n",
    "\n",
    "\n",
    "\n",
    "\n",
    "#画多边形\n",
    "pts=np.array([[10,5],[300,256],[70,20],[50,10]], np.int32)\n",
    "pts=pts.reshape((-1,1,2))\n",
    "# cv2.polylines(img,[pts],False,(0,255,0),3)#False：开口即多条线\n",
    "#在图片上添加文字\n",
    "font = cv2.FONT_HERSHEY_SIMPLEX\n",
    "cv2.putText(img,'opencv',(10,500),font,4,(255,255,255),2)\n",
    "\n",
    "cv2.namedWindow('img',cv2.WINDOW_NORMAL)\n",
    "cv2.imshow('img',img)\n",
    "cv2.waitKey(0)\n",
    "cv2.destroyAllWindows()"
   ]
  },
  {
   "cell_type": "code",
   "execution_count": 1,
   "metadata": {},
   "outputs": [],
   "source": [
    "import cv2 \n",
    "import numpy as np\n",
    "img = np.zeros((512,512,3),np.uint8)\n",
    "\n",
    "\n",
    "'''\n",
    "填充单个多边形\n",
    "cv2.fillConvexPoly(img,pts,color):\n",
    "pts是一系列点的坐标，例如triangle = np.array([[0, 0], [1500, 800], [500, 400]])。\n",
    "\n",
    "'''\n",
    "rect1 = np.array([[400,400],[400,500],[500,500],[500,400]])\n",
    "\n",
    "cv2.fillConvexPoly(img,rect1,(0,255,0))\n",
    "\n",
    "\n",
    "\n",
    "# #填充多个多边形\n",
    "triangle = np.array([[440,100 ], [200, 300], [500, 400]])\n",
    "rect = np.array([[20,20],[20,400],[400,400],[400,20]])\n",
    "'''\n",
    "cv2.fillPoly(img,[pts1,pts2,pts3…],color):\n",
    "pts1第一个多边形的点，pts2第二个多边形的点，pts3第三个多边形的点…\n",
    "'''\n",
    "cv2.fillPoly(img,[triangle,rect],(255,255,0))\n",
    "cv2.namedWindow('img',cv2.WINDOW_NORMAL)\n",
    "cv2.imshow('img',img)\n",
    "cv2.waitKey(0)\n",
    "cv2.destroyAllWindows()"
   ]
  },
  {
   "cell_type": "code",
   "execution_count": null,
   "metadata": {},
   "outputs": [],
   "source": []
  }
 ],
 "metadata": {
  "kernelspec": {
   "display_name": "Python 3.9.2 64-bit",
   "language": "python",
   "name": "python3"
  },
  "language_info": {
   "codemirror_mode": {
    "name": "ipython",
    "version": 3
   },
   "file_extension": ".py",
   "mimetype": "text/x-python",
   "name": "python",
   "nbconvert_exporter": "python",
   "pygments_lexer": "ipython3",
   "version": "3.9.2"
  },
  "orig_nbformat": 4,
  "vscode": {
   "interpreter": {
    "hash": "397704579725e15f5c7cb49fe5f0341eb7531c82d19f2c29d197e8b64ab5776b"
   }
  }
 },
 "nbformat": 4,
 "nbformat_minor": 2
}
